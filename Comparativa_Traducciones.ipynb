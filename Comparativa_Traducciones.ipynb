{
  "nbformat": 4,
  "nbformat_minor": 0,
  "metadata": {
    "colab": {
      "provenance": [],
      "authorship_tag": "ABX9TyP7F+DWQJ2h1kp9Sy7f7OYR",
      "include_colab_link": true
    },
    "kernelspec": {
      "name": "python3",
      "display_name": "Python 3"
    },
    "language_info": {
      "name": "python"
    },
    "widgets": {
      "application/vnd.jupyter.widget-state+json": {
        "9018874db99a437db8e2cdac81d65c32": {
          "model_module": "@jupyter-widgets/controls",
          "model_name": "HBoxModel",
          "model_module_version": "1.5.0",
          "state": {
            "_dom_classes": [],
            "_model_module": "@jupyter-widgets/controls",
            "_model_module_version": "1.5.0",
            "_model_name": "HBoxModel",
            "_view_count": null,
            "_view_module": "@jupyter-widgets/controls",
            "_view_module_version": "1.5.0",
            "_view_name": "HBoxView",
            "box_style": "",
            "children": [
              "IPY_MODEL_a900879c965d431bb3109a060e174c68",
              "IPY_MODEL_8a2c3c1c605c4621922ad71b67545972",
              "IPY_MODEL_954b8e1a7e9e43c5a91fe271240d80f8"
            ],
            "layout": "IPY_MODEL_8553212f962945ff813b93b78c979e1b"
          }
        },
        "a900879c965d431bb3109a060e174c68": {
          "model_module": "@jupyter-widgets/controls",
          "model_name": "HTMLModel",
          "model_module_version": "1.5.0",
          "state": {
            "_dom_classes": [],
            "_model_module": "@jupyter-widgets/controls",
            "_model_module_version": "1.5.0",
            "_model_name": "HTMLModel",
            "_view_count": null,
            "_view_module": "@jupyter-widgets/controls",
            "_view_module_version": "1.5.0",
            "_view_name": "HTMLView",
            "description": "",
            "description_tooltip": null,
            "layout": "IPY_MODEL_ba083a66a8a546d3acdb6f15e06033d4",
            "placeholder": "​",
            "style": "IPY_MODEL_ffa65139886d49f5ab852cb42ff3567c",
            "value": "Downloading builder script: 100%"
          }
        },
        "8a2c3c1c605c4621922ad71b67545972": {
          "model_module": "@jupyter-widgets/controls",
          "model_name": "FloatProgressModel",
          "model_module_version": "1.5.0",
          "state": {
            "_dom_classes": [],
            "_model_module": "@jupyter-widgets/controls",
            "_model_module_version": "1.5.0",
            "_model_name": "FloatProgressModel",
            "_view_count": null,
            "_view_module": "@jupyter-widgets/controls",
            "_view_module_version": "1.5.0",
            "_view_name": "ProgressView",
            "bar_style": "success",
            "description": "",
            "description_tooltip": null,
            "layout": "IPY_MODEL_cb356c9b1162462295f2de87dad1bfd9",
            "max": 6927,
            "min": 0,
            "orientation": "horizontal",
            "style": "IPY_MODEL_efa84184ffd64f1195803f0a1281f5fa",
            "value": 6927
          }
        },
        "954b8e1a7e9e43c5a91fe271240d80f8": {
          "model_module": "@jupyter-widgets/controls",
          "model_name": "HTMLModel",
          "model_module_version": "1.5.0",
          "state": {
            "_dom_classes": [],
            "_model_module": "@jupyter-widgets/controls",
            "_model_module_version": "1.5.0",
            "_model_name": "HTMLModel",
            "_view_count": null,
            "_view_module": "@jupyter-widgets/controls",
            "_view_module_version": "1.5.0",
            "_view_name": "HTMLView",
            "description": "",
            "description_tooltip": null,
            "layout": "IPY_MODEL_2231e7c5c65545d8bc589bc82754e932",
            "placeholder": "​",
            "style": "IPY_MODEL_a13a1d1b47be4dd796698cf323477dbc",
            "value": " 6.93k/6.93k [00:00&lt;00:00, 279kB/s]"
          }
        },
        "8553212f962945ff813b93b78c979e1b": {
          "model_module": "@jupyter-widgets/base",
          "model_name": "LayoutModel",
          "model_module_version": "1.2.0",
          "state": {
            "_model_module": "@jupyter-widgets/base",
            "_model_module_version": "1.2.0",
            "_model_name": "LayoutModel",
            "_view_count": null,
            "_view_module": "@jupyter-widgets/base",
            "_view_module_version": "1.2.0",
            "_view_name": "LayoutView",
            "align_content": null,
            "align_items": null,
            "align_self": null,
            "border": null,
            "bottom": null,
            "display": null,
            "flex": null,
            "flex_flow": null,
            "grid_area": null,
            "grid_auto_columns": null,
            "grid_auto_flow": null,
            "grid_auto_rows": null,
            "grid_column": null,
            "grid_gap": null,
            "grid_row": null,
            "grid_template_areas": null,
            "grid_template_columns": null,
            "grid_template_rows": null,
            "height": null,
            "justify_content": null,
            "justify_items": null,
            "left": null,
            "margin": null,
            "max_height": null,
            "max_width": null,
            "min_height": null,
            "min_width": null,
            "object_fit": null,
            "object_position": null,
            "order": null,
            "overflow": null,
            "overflow_x": null,
            "overflow_y": null,
            "padding": null,
            "right": null,
            "top": null,
            "visibility": null,
            "width": null
          }
        },
        "ba083a66a8a546d3acdb6f15e06033d4": {
          "model_module": "@jupyter-widgets/base",
          "model_name": "LayoutModel",
          "model_module_version": "1.2.0",
          "state": {
            "_model_module": "@jupyter-widgets/base",
            "_model_module_version": "1.2.0",
            "_model_name": "LayoutModel",
            "_view_count": null,
            "_view_module": "@jupyter-widgets/base",
            "_view_module_version": "1.2.0",
            "_view_name": "LayoutView",
            "align_content": null,
            "align_items": null,
            "align_self": null,
            "border": null,
            "bottom": null,
            "display": null,
            "flex": null,
            "flex_flow": null,
            "grid_area": null,
            "grid_auto_columns": null,
            "grid_auto_flow": null,
            "grid_auto_rows": null,
            "grid_column": null,
            "grid_gap": null,
            "grid_row": null,
            "grid_template_areas": null,
            "grid_template_columns": null,
            "grid_template_rows": null,
            "height": null,
            "justify_content": null,
            "justify_items": null,
            "left": null,
            "margin": null,
            "max_height": null,
            "max_width": null,
            "min_height": null,
            "min_width": null,
            "object_fit": null,
            "object_position": null,
            "order": null,
            "overflow": null,
            "overflow_x": null,
            "overflow_y": null,
            "padding": null,
            "right": null,
            "top": null,
            "visibility": null,
            "width": null
          }
        },
        "ffa65139886d49f5ab852cb42ff3567c": {
          "model_module": "@jupyter-widgets/controls",
          "model_name": "DescriptionStyleModel",
          "model_module_version": "1.5.0",
          "state": {
            "_model_module": "@jupyter-widgets/controls",
            "_model_module_version": "1.5.0",
            "_model_name": "DescriptionStyleModel",
            "_view_count": null,
            "_view_module": "@jupyter-widgets/base",
            "_view_module_version": "1.2.0",
            "_view_name": "StyleView",
            "description_width": ""
          }
        },
        "cb356c9b1162462295f2de87dad1bfd9": {
          "model_module": "@jupyter-widgets/base",
          "model_name": "LayoutModel",
          "model_module_version": "1.2.0",
          "state": {
            "_model_module": "@jupyter-widgets/base",
            "_model_module_version": "1.2.0",
            "_model_name": "LayoutModel",
            "_view_count": null,
            "_view_module": "@jupyter-widgets/base",
            "_view_module_version": "1.2.0",
            "_view_name": "LayoutView",
            "align_content": null,
            "align_items": null,
            "align_self": null,
            "border": null,
            "bottom": null,
            "display": null,
            "flex": null,
            "flex_flow": null,
            "grid_area": null,
            "grid_auto_columns": null,
            "grid_auto_flow": null,
            "grid_auto_rows": null,
            "grid_column": null,
            "grid_gap": null,
            "grid_row": null,
            "grid_template_areas": null,
            "grid_template_columns": null,
            "grid_template_rows": null,
            "height": null,
            "justify_content": null,
            "justify_items": null,
            "left": null,
            "margin": null,
            "max_height": null,
            "max_width": null,
            "min_height": null,
            "min_width": null,
            "object_fit": null,
            "object_position": null,
            "order": null,
            "overflow": null,
            "overflow_x": null,
            "overflow_y": null,
            "padding": null,
            "right": null,
            "top": null,
            "visibility": null,
            "width": null
          }
        },
        "efa84184ffd64f1195803f0a1281f5fa": {
          "model_module": "@jupyter-widgets/controls",
          "model_name": "ProgressStyleModel",
          "model_module_version": "1.5.0",
          "state": {
            "_model_module": "@jupyter-widgets/controls",
            "_model_module_version": "1.5.0",
            "_model_name": "ProgressStyleModel",
            "_view_count": null,
            "_view_module": "@jupyter-widgets/base",
            "_view_module_version": "1.2.0",
            "_view_name": "StyleView",
            "bar_color": null,
            "description_width": ""
          }
        },
        "2231e7c5c65545d8bc589bc82754e932": {
          "model_module": "@jupyter-widgets/base",
          "model_name": "LayoutModel",
          "model_module_version": "1.2.0",
          "state": {
            "_model_module": "@jupyter-widgets/base",
            "_model_module_version": "1.2.0",
            "_model_name": "LayoutModel",
            "_view_count": null,
            "_view_module": "@jupyter-widgets/base",
            "_view_module_version": "1.2.0",
            "_view_name": "LayoutView",
            "align_content": null,
            "align_items": null,
            "align_self": null,
            "border": null,
            "bottom": null,
            "display": null,
            "flex": null,
            "flex_flow": null,
            "grid_area": null,
            "grid_auto_columns": null,
            "grid_auto_flow": null,
            "grid_auto_rows": null,
            "grid_column": null,
            "grid_gap": null,
            "grid_row": null,
            "grid_template_areas": null,
            "grid_template_columns": null,
            "grid_template_rows": null,
            "height": null,
            "justify_content": null,
            "justify_items": null,
            "left": null,
            "margin": null,
            "max_height": null,
            "max_width": null,
            "min_height": null,
            "min_width": null,
            "object_fit": null,
            "object_position": null,
            "order": null,
            "overflow": null,
            "overflow_x": null,
            "overflow_y": null,
            "padding": null,
            "right": null,
            "top": null,
            "visibility": null,
            "width": null
          }
        },
        "a13a1d1b47be4dd796698cf323477dbc": {
          "model_module": "@jupyter-widgets/controls",
          "model_name": "DescriptionStyleModel",
          "model_module_version": "1.5.0",
          "state": {
            "_model_module": "@jupyter-widgets/controls",
            "_model_module_version": "1.5.0",
            "_model_name": "DescriptionStyleModel",
            "_view_count": null,
            "_view_module": "@jupyter-widgets/base",
            "_view_module_version": "1.2.0",
            "_view_name": "StyleView",
            "description_width": ""
          }
        },
        "8de0d3c0f1194911937af0b352084f84": {
          "model_module": "@jupyter-widgets/controls",
          "model_name": "HBoxModel",
          "model_module_version": "1.5.0",
          "state": {
            "_dom_classes": [],
            "_model_module": "@jupyter-widgets/controls",
            "_model_module_version": "1.5.0",
            "_model_name": "HBoxModel",
            "_view_count": null,
            "_view_module": "@jupyter-widgets/controls",
            "_view_module_version": "1.5.0",
            "_view_name": "HBoxView",
            "box_style": "",
            "children": [
              "IPY_MODEL_e31d6511d86745418ac8fc509a83c623",
              "IPY_MODEL_a4c8188445e3457aacf03ca67308401e",
              "IPY_MODEL_8cb006e86dc74f3aa32d5164e50ea78a"
            ],
            "layout": "IPY_MODEL_17d29131e0914321a4179782d928b465"
          }
        },
        "e31d6511d86745418ac8fc509a83c623": {
          "model_module": "@jupyter-widgets/controls",
          "model_name": "HTMLModel",
          "model_module_version": "1.5.0",
          "state": {
            "_dom_classes": [],
            "_model_module": "@jupyter-widgets/controls",
            "_model_module_version": "1.5.0",
            "_model_name": "HTMLModel",
            "_view_count": null,
            "_view_module": "@jupyter-widgets/controls",
            "_view_module_version": "1.5.0",
            "_view_name": "HTMLView",
            "description": "",
            "description_tooltip": null,
            "layout": "IPY_MODEL_c45bdda87ad740efb0f72a52d74c47f6",
            "placeholder": "​",
            "style": "IPY_MODEL_a58c3da302194ec78a2461ed77657296",
            "value": "Downloading builder script: 100%"
          }
        },
        "a4c8188445e3457aacf03ca67308401e": {
          "model_module": "@jupyter-widgets/controls",
          "model_name": "FloatProgressModel",
          "model_module_version": "1.5.0",
          "state": {
            "_dom_classes": [],
            "_model_module": "@jupyter-widgets/controls",
            "_model_module_version": "1.5.0",
            "_model_name": "FloatProgressModel",
            "_view_count": null,
            "_view_module": "@jupyter-widgets/controls",
            "_view_module_version": "1.5.0",
            "_view_name": "ProgressView",
            "bar_style": "success",
            "description": "",
            "description_tooltip": null,
            "layout": "IPY_MODEL_e5503a4be48d41bf81e3abfa59445939",
            "max": 7950,
            "min": 0,
            "orientation": "horizontal",
            "style": "IPY_MODEL_8a0a51c451564d68a90342e56fcb1fb9",
            "value": 7950
          }
        },
        "8cb006e86dc74f3aa32d5164e50ea78a": {
          "model_module": "@jupyter-widgets/controls",
          "model_name": "HTMLModel",
          "model_module_version": "1.5.0",
          "state": {
            "_dom_classes": [],
            "_model_module": "@jupyter-widgets/controls",
            "_model_module_version": "1.5.0",
            "_model_name": "HTMLModel",
            "_view_count": null,
            "_view_module": "@jupyter-widgets/controls",
            "_view_module_version": "1.5.0",
            "_view_name": "HTMLView",
            "description": "",
            "description_tooltip": null,
            "layout": "IPY_MODEL_877dfad34a694dfa87bd1cebdbaf8dd8",
            "placeholder": "​",
            "style": "IPY_MODEL_3269f535703c41afb7786876d75433bd",
            "value": " 7.95k/7.95k [00:00&lt;00:00, 316kB/s]"
          }
        },
        "17d29131e0914321a4179782d928b465": {
          "model_module": "@jupyter-widgets/base",
          "model_name": "LayoutModel",
          "model_module_version": "1.2.0",
          "state": {
            "_model_module": "@jupyter-widgets/base",
            "_model_module_version": "1.2.0",
            "_model_name": "LayoutModel",
            "_view_count": null,
            "_view_module": "@jupyter-widgets/base",
            "_view_module_version": "1.2.0",
            "_view_name": "LayoutView",
            "align_content": null,
            "align_items": null,
            "align_self": null,
            "border": null,
            "bottom": null,
            "display": null,
            "flex": null,
            "flex_flow": null,
            "grid_area": null,
            "grid_auto_columns": null,
            "grid_auto_flow": null,
            "grid_auto_rows": null,
            "grid_column": null,
            "grid_gap": null,
            "grid_row": null,
            "grid_template_areas": null,
            "grid_template_columns": null,
            "grid_template_rows": null,
            "height": null,
            "justify_content": null,
            "justify_items": null,
            "left": null,
            "margin": null,
            "max_height": null,
            "max_width": null,
            "min_height": null,
            "min_width": null,
            "object_fit": null,
            "object_position": null,
            "order": null,
            "overflow": null,
            "overflow_x": null,
            "overflow_y": null,
            "padding": null,
            "right": null,
            "top": null,
            "visibility": null,
            "width": null
          }
        },
        "c45bdda87ad740efb0f72a52d74c47f6": {
          "model_module": "@jupyter-widgets/base",
          "model_name": "LayoutModel",
          "model_module_version": "1.2.0",
          "state": {
            "_model_module": "@jupyter-widgets/base",
            "_model_module_version": "1.2.0",
            "_model_name": "LayoutModel",
            "_view_count": null,
            "_view_module": "@jupyter-widgets/base",
            "_view_module_version": "1.2.0",
            "_view_name": "LayoutView",
            "align_content": null,
            "align_items": null,
            "align_self": null,
            "border": null,
            "bottom": null,
            "display": null,
            "flex": null,
            "flex_flow": null,
            "grid_area": null,
            "grid_auto_columns": null,
            "grid_auto_flow": null,
            "grid_auto_rows": null,
            "grid_column": null,
            "grid_gap": null,
            "grid_row": null,
            "grid_template_areas": null,
            "grid_template_columns": null,
            "grid_template_rows": null,
            "height": null,
            "justify_content": null,
            "justify_items": null,
            "left": null,
            "margin": null,
            "max_height": null,
            "max_width": null,
            "min_height": null,
            "min_width": null,
            "object_fit": null,
            "object_position": null,
            "order": null,
            "overflow": null,
            "overflow_x": null,
            "overflow_y": null,
            "padding": null,
            "right": null,
            "top": null,
            "visibility": null,
            "width": null
          }
        },
        "a58c3da302194ec78a2461ed77657296": {
          "model_module": "@jupyter-widgets/controls",
          "model_name": "DescriptionStyleModel",
          "model_module_version": "1.5.0",
          "state": {
            "_model_module": "@jupyter-widgets/controls",
            "_model_module_version": "1.5.0",
            "_model_name": "DescriptionStyleModel",
            "_view_count": null,
            "_view_module": "@jupyter-widgets/base",
            "_view_module_version": "1.2.0",
            "_view_name": "StyleView",
            "description_width": ""
          }
        },
        "e5503a4be48d41bf81e3abfa59445939": {
          "model_module": "@jupyter-widgets/base",
          "model_name": "LayoutModel",
          "model_module_version": "1.2.0",
          "state": {
            "_model_module": "@jupyter-widgets/base",
            "_model_module_version": "1.2.0",
            "_model_name": "LayoutModel",
            "_view_count": null,
            "_view_module": "@jupyter-widgets/base",
            "_view_module_version": "1.2.0",
            "_view_name": "LayoutView",
            "align_content": null,
            "align_items": null,
            "align_self": null,
            "border": null,
            "bottom": null,
            "display": null,
            "flex": null,
            "flex_flow": null,
            "grid_area": null,
            "grid_auto_columns": null,
            "grid_auto_flow": null,
            "grid_auto_rows": null,
            "grid_column": null,
            "grid_gap": null,
            "grid_row": null,
            "grid_template_areas": null,
            "grid_template_columns": null,
            "grid_template_rows": null,
            "height": null,
            "justify_content": null,
            "justify_items": null,
            "left": null,
            "margin": null,
            "max_height": null,
            "max_width": null,
            "min_height": null,
            "min_width": null,
            "object_fit": null,
            "object_position": null,
            "order": null,
            "overflow": null,
            "overflow_x": null,
            "overflow_y": null,
            "padding": null,
            "right": null,
            "top": null,
            "visibility": null,
            "width": null
          }
        },
        "8a0a51c451564d68a90342e56fcb1fb9": {
          "model_module": "@jupyter-widgets/controls",
          "model_name": "ProgressStyleModel",
          "model_module_version": "1.5.0",
          "state": {
            "_model_module": "@jupyter-widgets/controls",
            "_model_module_version": "1.5.0",
            "_model_name": "ProgressStyleModel",
            "_view_count": null,
            "_view_module": "@jupyter-widgets/base",
            "_view_module_version": "1.2.0",
            "_view_name": "StyleView",
            "bar_color": null,
            "description_width": ""
          }
        },
        "877dfad34a694dfa87bd1cebdbaf8dd8": {
          "model_module": "@jupyter-widgets/base",
          "model_name": "LayoutModel",
          "model_module_version": "1.2.0",
          "state": {
            "_model_module": "@jupyter-widgets/base",
            "_model_module_version": "1.2.0",
            "_model_name": "LayoutModel",
            "_view_count": null,
            "_view_module": "@jupyter-widgets/base",
            "_view_module_version": "1.2.0",
            "_view_name": "LayoutView",
            "align_content": null,
            "align_items": null,
            "align_self": null,
            "border": null,
            "bottom": null,
            "display": null,
            "flex": null,
            "flex_flow": null,
            "grid_area": null,
            "grid_auto_columns": null,
            "grid_auto_flow": null,
            "grid_auto_rows": null,
            "grid_column": null,
            "grid_gap": null,
            "grid_row": null,
            "grid_template_areas": null,
            "grid_template_columns": null,
            "grid_template_rows": null,
            "height": null,
            "justify_content": null,
            "justify_items": null,
            "left": null,
            "margin": null,
            "max_height": null,
            "max_width": null,
            "min_height": null,
            "min_width": null,
            "object_fit": null,
            "object_position": null,
            "order": null,
            "overflow": null,
            "overflow_x": null,
            "overflow_y": null,
            "padding": null,
            "right": null,
            "top": null,
            "visibility": null,
            "width": null
          }
        },
        "3269f535703c41afb7786876d75433bd": {
          "model_module": "@jupyter-widgets/controls",
          "model_name": "DescriptionStyleModel",
          "model_module_version": "1.5.0",
          "state": {
            "_model_module": "@jupyter-widgets/controls",
            "_model_module_version": "1.5.0",
            "_model_name": "DescriptionStyleModel",
            "_view_count": null,
            "_view_module": "@jupyter-widgets/base",
            "_view_module_version": "1.2.0",
            "_view_name": "StyleView",
            "description_width": ""
          }
        },
        "263fa6d60ede4438a61d65e98211f54e": {
          "model_module": "@jupyter-widgets/controls",
          "model_name": "HBoxModel",
          "model_module_version": "1.5.0",
          "state": {
            "_dom_classes": [],
            "_model_module": "@jupyter-widgets/controls",
            "_model_module_version": "1.5.0",
            "_model_name": "HBoxModel",
            "_view_count": null,
            "_view_module": "@jupyter-widgets/controls",
            "_view_module_version": "1.5.0",
            "_view_name": "HBoxView",
            "box_style": "",
            "children": [
              "IPY_MODEL_00b42aec4e81493d9e4065553319ec9d",
              "IPY_MODEL_8dfeefc30b5147859b8270c8b3616c9b",
              "IPY_MODEL_afda9d6089e54a1dacc809a6d0e45415"
            ],
            "layout": "IPY_MODEL_a8d7c3747a71460f9fbab5b0437784ea"
          }
        },
        "00b42aec4e81493d9e4065553319ec9d": {
          "model_module": "@jupyter-widgets/controls",
          "model_name": "HTMLModel",
          "model_module_version": "1.5.0",
          "state": {
            "_dom_classes": [],
            "_model_module": "@jupyter-widgets/controls",
            "_model_module_version": "1.5.0",
            "_model_name": "HTMLModel",
            "_view_count": null,
            "_view_module": "@jupyter-widgets/controls",
            "_view_module_version": "1.5.0",
            "_view_name": "HTMLView",
            "description": "",
            "description_tooltip": null,
            "layout": "IPY_MODEL_227e34194020421c8eea644e31f2f450",
            "placeholder": "​",
            "style": "IPY_MODEL_047700794dd24c43a8e6c96fca9ff405",
            "value": "tokenizer_config.json: 100%"
          }
        },
        "8dfeefc30b5147859b8270c8b3616c9b": {
          "model_module": "@jupyter-widgets/controls",
          "model_name": "FloatProgressModel",
          "model_module_version": "1.5.0",
          "state": {
            "_dom_classes": [],
            "_model_module": "@jupyter-widgets/controls",
            "_model_module_version": "1.5.0",
            "_model_name": "FloatProgressModel",
            "_view_count": null,
            "_view_module": "@jupyter-widgets/controls",
            "_view_module_version": "1.5.0",
            "_view_name": "ProgressView",
            "bar_style": "success",
            "description": "",
            "description_tooltip": null,
            "layout": "IPY_MODEL_41b4e205197c42088bc81274bc273220",
            "max": 49,
            "min": 0,
            "orientation": "horizontal",
            "style": "IPY_MODEL_f4b2cadf28fd463e9a83a2fc28bcbd9b",
            "value": 49
          }
        },
        "afda9d6089e54a1dacc809a6d0e45415": {
          "model_module": "@jupyter-widgets/controls",
          "model_name": "HTMLModel",
          "model_module_version": "1.5.0",
          "state": {
            "_dom_classes": [],
            "_model_module": "@jupyter-widgets/controls",
            "_model_module_version": "1.5.0",
            "_model_name": "HTMLModel",
            "_view_count": null,
            "_view_module": "@jupyter-widgets/controls",
            "_view_module_version": "1.5.0",
            "_view_name": "HTMLView",
            "description": "",
            "description_tooltip": null,
            "layout": "IPY_MODEL_8080b773388049f1a9c460890949fa11",
            "placeholder": "​",
            "style": "IPY_MODEL_5be674625e894cae86b892f15df1a913",
            "value": " 49.0/49.0 [00:00&lt;00:00, 1.69kB/s]"
          }
        },
        "a8d7c3747a71460f9fbab5b0437784ea": {
          "model_module": "@jupyter-widgets/base",
          "model_name": "LayoutModel",
          "model_module_version": "1.2.0",
          "state": {
            "_model_module": "@jupyter-widgets/base",
            "_model_module_version": "1.2.0",
            "_model_name": "LayoutModel",
            "_view_count": null,
            "_view_module": "@jupyter-widgets/base",
            "_view_module_version": "1.2.0",
            "_view_name": "LayoutView",
            "align_content": null,
            "align_items": null,
            "align_self": null,
            "border": null,
            "bottom": null,
            "display": null,
            "flex": null,
            "flex_flow": null,
            "grid_area": null,
            "grid_auto_columns": null,
            "grid_auto_flow": null,
            "grid_auto_rows": null,
            "grid_column": null,
            "grid_gap": null,
            "grid_row": null,
            "grid_template_areas": null,
            "grid_template_columns": null,
            "grid_template_rows": null,
            "height": null,
            "justify_content": null,
            "justify_items": null,
            "left": null,
            "margin": null,
            "max_height": null,
            "max_width": null,
            "min_height": null,
            "min_width": null,
            "object_fit": null,
            "object_position": null,
            "order": null,
            "overflow": null,
            "overflow_x": null,
            "overflow_y": null,
            "padding": null,
            "right": null,
            "top": null,
            "visibility": null,
            "width": null
          }
        },
        "227e34194020421c8eea644e31f2f450": {
          "model_module": "@jupyter-widgets/base",
          "model_name": "LayoutModel",
          "model_module_version": "1.2.0",
          "state": {
            "_model_module": "@jupyter-widgets/base",
            "_model_module_version": "1.2.0",
            "_model_name": "LayoutModel",
            "_view_count": null,
            "_view_module": "@jupyter-widgets/base",
            "_view_module_version": "1.2.0",
            "_view_name": "LayoutView",
            "align_content": null,
            "align_items": null,
            "align_self": null,
            "border": null,
            "bottom": null,
            "display": null,
            "flex": null,
            "flex_flow": null,
            "grid_area": null,
            "grid_auto_columns": null,
            "grid_auto_flow": null,
            "grid_auto_rows": null,
            "grid_column": null,
            "grid_gap": null,
            "grid_row": null,
            "grid_template_areas": null,
            "grid_template_columns": null,
            "grid_template_rows": null,
            "height": null,
            "justify_content": null,
            "justify_items": null,
            "left": null,
            "margin": null,
            "max_height": null,
            "max_width": null,
            "min_height": null,
            "min_width": null,
            "object_fit": null,
            "object_position": null,
            "order": null,
            "overflow": null,
            "overflow_x": null,
            "overflow_y": null,
            "padding": null,
            "right": null,
            "top": null,
            "visibility": null,
            "width": null
          }
        },
        "047700794dd24c43a8e6c96fca9ff405": {
          "model_module": "@jupyter-widgets/controls",
          "model_name": "DescriptionStyleModel",
          "model_module_version": "1.5.0",
          "state": {
            "_model_module": "@jupyter-widgets/controls",
            "_model_module_version": "1.5.0",
            "_model_name": "DescriptionStyleModel",
            "_view_count": null,
            "_view_module": "@jupyter-widgets/base",
            "_view_module_version": "1.2.0",
            "_view_name": "StyleView",
            "description_width": ""
          }
        },
        "41b4e205197c42088bc81274bc273220": {
          "model_module": "@jupyter-widgets/base",
          "model_name": "LayoutModel",
          "model_module_version": "1.2.0",
          "state": {
            "_model_module": "@jupyter-widgets/base",
            "_model_module_version": "1.2.0",
            "_model_name": "LayoutModel",
            "_view_count": null,
            "_view_module": "@jupyter-widgets/base",
            "_view_module_version": "1.2.0",
            "_view_name": "LayoutView",
            "align_content": null,
            "align_items": null,
            "align_self": null,
            "border": null,
            "bottom": null,
            "display": null,
            "flex": null,
            "flex_flow": null,
            "grid_area": null,
            "grid_auto_columns": null,
            "grid_auto_flow": null,
            "grid_auto_rows": null,
            "grid_column": null,
            "grid_gap": null,
            "grid_row": null,
            "grid_template_areas": null,
            "grid_template_columns": null,
            "grid_template_rows": null,
            "height": null,
            "justify_content": null,
            "justify_items": null,
            "left": null,
            "margin": null,
            "max_height": null,
            "max_width": null,
            "min_height": null,
            "min_width": null,
            "object_fit": null,
            "object_position": null,
            "order": null,
            "overflow": null,
            "overflow_x": null,
            "overflow_y": null,
            "padding": null,
            "right": null,
            "top": null,
            "visibility": null,
            "width": null
          }
        },
        "f4b2cadf28fd463e9a83a2fc28bcbd9b": {
          "model_module": "@jupyter-widgets/controls",
          "model_name": "ProgressStyleModel",
          "model_module_version": "1.5.0",
          "state": {
            "_model_module": "@jupyter-widgets/controls",
            "_model_module_version": "1.5.0",
            "_model_name": "ProgressStyleModel",
            "_view_count": null,
            "_view_module": "@jupyter-widgets/base",
            "_view_module_version": "1.2.0",
            "_view_name": "StyleView",
            "bar_color": null,
            "description_width": ""
          }
        },
        "8080b773388049f1a9c460890949fa11": {
          "model_module": "@jupyter-widgets/base",
          "model_name": "LayoutModel",
          "model_module_version": "1.2.0",
          "state": {
            "_model_module": "@jupyter-widgets/base",
            "_model_module_version": "1.2.0",
            "_model_name": "LayoutModel",
            "_view_count": null,
            "_view_module": "@jupyter-widgets/base",
            "_view_module_version": "1.2.0",
            "_view_name": "LayoutView",
            "align_content": null,
            "align_items": null,
            "align_self": null,
            "border": null,
            "bottom": null,
            "display": null,
            "flex": null,
            "flex_flow": null,
            "grid_area": null,
            "grid_auto_columns": null,
            "grid_auto_flow": null,
            "grid_auto_rows": null,
            "grid_column": null,
            "grid_gap": null,
            "grid_row": null,
            "grid_template_areas": null,
            "grid_template_columns": null,
            "grid_template_rows": null,
            "height": null,
            "justify_content": null,
            "justify_items": null,
            "left": null,
            "margin": null,
            "max_height": null,
            "max_width": null,
            "min_height": null,
            "min_width": null,
            "object_fit": null,
            "object_position": null,
            "order": null,
            "overflow": null,
            "overflow_x": null,
            "overflow_y": null,
            "padding": null,
            "right": null,
            "top": null,
            "visibility": null,
            "width": null
          }
        },
        "5be674625e894cae86b892f15df1a913": {
          "model_module": "@jupyter-widgets/controls",
          "model_name": "DescriptionStyleModel",
          "model_module_version": "1.5.0",
          "state": {
            "_model_module": "@jupyter-widgets/controls",
            "_model_module_version": "1.5.0",
            "_model_name": "DescriptionStyleModel",
            "_view_count": null,
            "_view_module": "@jupyter-widgets/base",
            "_view_module_version": "1.2.0",
            "_view_name": "StyleView",
            "description_width": ""
          }
        },
        "bd3bc6a30e314a7c8a238555d739a521": {
          "model_module": "@jupyter-widgets/controls",
          "model_name": "HBoxModel",
          "model_module_version": "1.5.0",
          "state": {
            "_dom_classes": [],
            "_model_module": "@jupyter-widgets/controls",
            "_model_module_version": "1.5.0",
            "_model_name": "HBoxModel",
            "_view_count": null,
            "_view_module": "@jupyter-widgets/controls",
            "_view_module_version": "1.5.0",
            "_view_name": "HBoxView",
            "box_style": "",
            "children": [
              "IPY_MODEL_6a0e17d4be594c1d89c183e96fba2101",
              "IPY_MODEL_9d1b5f1daff247aba54476c5f4a4a1ef",
              "IPY_MODEL_d7126618116a43f3ab284c871ced7c76"
            ],
            "layout": "IPY_MODEL_4128669da5234c9eb92419f5f54d96d2"
          }
        },
        "6a0e17d4be594c1d89c183e96fba2101": {
          "model_module": "@jupyter-widgets/controls",
          "model_name": "HTMLModel",
          "model_module_version": "1.5.0",
          "state": {
            "_dom_classes": [],
            "_model_module": "@jupyter-widgets/controls",
            "_model_module_version": "1.5.0",
            "_model_name": "HTMLModel",
            "_view_count": null,
            "_view_module": "@jupyter-widgets/controls",
            "_view_module_version": "1.5.0",
            "_view_name": "HTMLView",
            "description": "",
            "description_tooltip": null,
            "layout": "IPY_MODEL_2e55fb0ec91e4a7c8e21064fc1bdb921",
            "placeholder": "​",
            "style": "IPY_MODEL_44dcee0b367148ccb7bed68b339e0e0a",
            "value": "config.json: 100%"
          }
        },
        "9d1b5f1daff247aba54476c5f4a4a1ef": {
          "model_module": "@jupyter-widgets/controls",
          "model_name": "FloatProgressModel",
          "model_module_version": "1.5.0",
          "state": {
            "_dom_classes": [],
            "_model_module": "@jupyter-widgets/controls",
            "_model_module_version": "1.5.0",
            "_model_name": "FloatProgressModel",
            "_view_count": null,
            "_view_module": "@jupyter-widgets/controls",
            "_view_module_version": "1.5.0",
            "_view_name": "ProgressView",
            "bar_style": "success",
            "description": "",
            "description_tooltip": null,
            "layout": "IPY_MODEL_9657c40703884fcfaa77496bebbdb2b4",
            "max": 625,
            "min": 0,
            "orientation": "horizontal",
            "style": "IPY_MODEL_1e3f908cf9724b6997a9626af8801dfa",
            "value": 625
          }
        },
        "d7126618116a43f3ab284c871ced7c76": {
          "model_module": "@jupyter-widgets/controls",
          "model_name": "HTMLModel",
          "model_module_version": "1.5.0",
          "state": {
            "_dom_classes": [],
            "_model_module": "@jupyter-widgets/controls",
            "_model_module_version": "1.5.0",
            "_model_name": "HTMLModel",
            "_view_count": null,
            "_view_module": "@jupyter-widgets/controls",
            "_view_module_version": "1.5.0",
            "_view_name": "HTMLView",
            "description": "",
            "description_tooltip": null,
            "layout": "IPY_MODEL_5c7905385e57493cac3639192bbac451",
            "placeholder": "​",
            "style": "IPY_MODEL_b82e055459b04fc8a6058c5242f1fffb",
            "value": " 625/625 [00:00&lt;00:00, 17.2kB/s]"
          }
        },
        "4128669da5234c9eb92419f5f54d96d2": {
          "model_module": "@jupyter-widgets/base",
          "model_name": "LayoutModel",
          "model_module_version": "1.2.0",
          "state": {
            "_model_module": "@jupyter-widgets/base",
            "_model_module_version": "1.2.0",
            "_model_name": "LayoutModel",
            "_view_count": null,
            "_view_module": "@jupyter-widgets/base",
            "_view_module_version": "1.2.0",
            "_view_name": "LayoutView",
            "align_content": null,
            "align_items": null,
            "align_self": null,
            "border": null,
            "bottom": null,
            "display": null,
            "flex": null,
            "flex_flow": null,
            "grid_area": null,
            "grid_auto_columns": null,
            "grid_auto_flow": null,
            "grid_auto_rows": null,
            "grid_column": null,
            "grid_gap": null,
            "grid_row": null,
            "grid_template_areas": null,
            "grid_template_columns": null,
            "grid_template_rows": null,
            "height": null,
            "justify_content": null,
            "justify_items": null,
            "left": null,
            "margin": null,
            "max_height": null,
            "max_width": null,
            "min_height": null,
            "min_width": null,
            "object_fit": null,
            "object_position": null,
            "order": null,
            "overflow": null,
            "overflow_x": null,
            "overflow_y": null,
            "padding": null,
            "right": null,
            "top": null,
            "visibility": null,
            "width": null
          }
        },
        "2e55fb0ec91e4a7c8e21064fc1bdb921": {
          "model_module": "@jupyter-widgets/base",
          "model_name": "LayoutModel",
          "model_module_version": "1.2.0",
          "state": {
            "_model_module": "@jupyter-widgets/base",
            "_model_module_version": "1.2.0",
            "_model_name": "LayoutModel",
            "_view_count": null,
            "_view_module": "@jupyter-widgets/base",
            "_view_module_version": "1.2.0",
            "_view_name": "LayoutView",
            "align_content": null,
            "align_items": null,
            "align_self": null,
            "border": null,
            "bottom": null,
            "display": null,
            "flex": null,
            "flex_flow": null,
            "grid_area": null,
            "grid_auto_columns": null,
            "grid_auto_flow": null,
            "grid_auto_rows": null,
            "grid_column": null,
            "grid_gap": null,
            "grid_row": null,
            "grid_template_areas": null,
            "grid_template_columns": null,
            "grid_template_rows": null,
            "height": null,
            "justify_content": null,
            "justify_items": null,
            "left": null,
            "margin": null,
            "max_height": null,
            "max_width": null,
            "min_height": null,
            "min_width": null,
            "object_fit": null,
            "object_position": null,
            "order": null,
            "overflow": null,
            "overflow_x": null,
            "overflow_y": null,
            "padding": null,
            "right": null,
            "top": null,
            "visibility": null,
            "width": null
          }
        },
        "44dcee0b367148ccb7bed68b339e0e0a": {
          "model_module": "@jupyter-widgets/controls",
          "model_name": "DescriptionStyleModel",
          "model_module_version": "1.5.0",
          "state": {
            "_model_module": "@jupyter-widgets/controls",
            "_model_module_version": "1.5.0",
            "_model_name": "DescriptionStyleModel",
            "_view_count": null,
            "_view_module": "@jupyter-widgets/base",
            "_view_module_version": "1.2.0",
            "_view_name": "StyleView",
            "description_width": ""
          }
        },
        "9657c40703884fcfaa77496bebbdb2b4": {
          "model_module": "@jupyter-widgets/base",
          "model_name": "LayoutModel",
          "model_module_version": "1.2.0",
          "state": {
            "_model_module": "@jupyter-widgets/base",
            "_model_module_version": "1.2.0",
            "_model_name": "LayoutModel",
            "_view_count": null,
            "_view_module": "@jupyter-widgets/base",
            "_view_module_version": "1.2.0",
            "_view_name": "LayoutView",
            "align_content": null,
            "align_items": null,
            "align_self": null,
            "border": null,
            "bottom": null,
            "display": null,
            "flex": null,
            "flex_flow": null,
            "grid_area": null,
            "grid_auto_columns": null,
            "grid_auto_flow": null,
            "grid_auto_rows": null,
            "grid_column": null,
            "grid_gap": null,
            "grid_row": null,
            "grid_template_areas": null,
            "grid_template_columns": null,
            "grid_template_rows": null,
            "height": null,
            "justify_content": null,
            "justify_items": null,
            "left": null,
            "margin": null,
            "max_height": null,
            "max_width": null,
            "min_height": null,
            "min_width": null,
            "object_fit": null,
            "object_position": null,
            "order": null,
            "overflow": null,
            "overflow_x": null,
            "overflow_y": null,
            "padding": null,
            "right": null,
            "top": null,
            "visibility": null,
            "width": null
          }
        },
        "1e3f908cf9724b6997a9626af8801dfa": {
          "model_module": "@jupyter-widgets/controls",
          "model_name": "ProgressStyleModel",
          "model_module_version": "1.5.0",
          "state": {
            "_model_module": "@jupyter-widgets/controls",
            "_model_module_version": "1.5.0",
            "_model_name": "ProgressStyleModel",
            "_view_count": null,
            "_view_module": "@jupyter-widgets/base",
            "_view_module_version": "1.2.0",
            "_view_name": "StyleView",
            "bar_color": null,
            "description_width": ""
          }
        },
        "5c7905385e57493cac3639192bbac451": {
          "model_module": "@jupyter-widgets/base",
          "model_name": "LayoutModel",
          "model_module_version": "1.2.0",
          "state": {
            "_model_module": "@jupyter-widgets/base",
            "_model_module_version": "1.2.0",
            "_model_name": "LayoutModel",
            "_view_count": null,
            "_view_module": "@jupyter-widgets/base",
            "_view_module_version": "1.2.0",
            "_view_name": "LayoutView",
            "align_content": null,
            "align_items": null,
            "align_self": null,
            "border": null,
            "bottom": null,
            "display": null,
            "flex": null,
            "flex_flow": null,
            "grid_area": null,
            "grid_auto_columns": null,
            "grid_auto_flow": null,
            "grid_auto_rows": null,
            "grid_column": null,
            "grid_gap": null,
            "grid_row": null,
            "grid_template_areas": null,
            "grid_template_columns": null,
            "grid_template_rows": null,
            "height": null,
            "justify_content": null,
            "justify_items": null,
            "left": null,
            "margin": null,
            "max_height": null,
            "max_width": null,
            "min_height": null,
            "min_width": null,
            "object_fit": null,
            "object_position": null,
            "order": null,
            "overflow": null,
            "overflow_x": null,
            "overflow_y": null,
            "padding": null,
            "right": null,
            "top": null,
            "visibility": null,
            "width": null
          }
        },
        "b82e055459b04fc8a6058c5242f1fffb": {
          "model_module": "@jupyter-widgets/controls",
          "model_name": "DescriptionStyleModel",
          "model_module_version": "1.5.0",
          "state": {
            "_model_module": "@jupyter-widgets/controls",
            "_model_module_version": "1.5.0",
            "_model_name": "DescriptionStyleModel",
            "_view_count": null,
            "_view_module": "@jupyter-widgets/base",
            "_view_module_version": "1.2.0",
            "_view_name": "StyleView",
            "description_width": ""
          }
        },
        "83d8f1d1b6104b749ec3f198fec863f7": {
          "model_module": "@jupyter-widgets/controls",
          "model_name": "HBoxModel",
          "model_module_version": "1.5.0",
          "state": {
            "_dom_classes": [],
            "_model_module": "@jupyter-widgets/controls",
            "_model_module_version": "1.5.0",
            "_model_name": "HBoxModel",
            "_view_count": null,
            "_view_module": "@jupyter-widgets/controls",
            "_view_module_version": "1.5.0",
            "_view_name": "HBoxView",
            "box_style": "",
            "children": [
              "IPY_MODEL_b440e04e80774fca8fe1645ba29ae64b",
              "IPY_MODEL_642339809c4242e68b68f0c86befe904",
              "IPY_MODEL_9ddfd9f0e9774a2bae1d7fb011a3c206"
            ],
            "layout": "IPY_MODEL_efb4f0ba04b0469da1710c2f7464ca39"
          }
        },
        "b440e04e80774fca8fe1645ba29ae64b": {
          "model_module": "@jupyter-widgets/controls",
          "model_name": "HTMLModel",
          "model_module_version": "1.5.0",
          "state": {
            "_dom_classes": [],
            "_model_module": "@jupyter-widgets/controls",
            "_model_module_version": "1.5.0",
            "_model_name": "HTMLModel",
            "_view_count": null,
            "_view_module": "@jupyter-widgets/controls",
            "_view_module_version": "1.5.0",
            "_view_name": "HTMLView",
            "description": "",
            "description_tooltip": null,
            "layout": "IPY_MODEL_d8e266a10a8a454283b348b7ff9a74a9",
            "placeholder": "​",
            "style": "IPY_MODEL_cf6e306b094741298692285dd06435ca",
            "value": "vocab.txt: 100%"
          }
        },
        "642339809c4242e68b68f0c86befe904": {
          "model_module": "@jupyter-widgets/controls",
          "model_name": "FloatProgressModel",
          "model_module_version": "1.5.0",
          "state": {
            "_dom_classes": [],
            "_model_module": "@jupyter-widgets/controls",
            "_model_module_version": "1.5.0",
            "_model_name": "FloatProgressModel",
            "_view_count": null,
            "_view_module": "@jupyter-widgets/controls",
            "_view_module_version": "1.5.0",
            "_view_name": "ProgressView",
            "bar_style": "success",
            "description": "",
            "description_tooltip": null,
            "layout": "IPY_MODEL_4eca442b37534f00a777e35791b76796",
            "max": 995526,
            "min": 0,
            "orientation": "horizontal",
            "style": "IPY_MODEL_4454aaf8974b47509fced5a30f5ed88e",
            "value": 995526
          }
        },
        "9ddfd9f0e9774a2bae1d7fb011a3c206": {
          "model_module": "@jupyter-widgets/controls",
          "model_name": "HTMLModel",
          "model_module_version": "1.5.0",
          "state": {
            "_dom_classes": [],
            "_model_module": "@jupyter-widgets/controls",
            "_model_module_version": "1.5.0",
            "_model_name": "HTMLModel",
            "_view_count": null,
            "_view_module": "@jupyter-widgets/controls",
            "_view_module_version": "1.5.0",
            "_view_name": "HTMLView",
            "description": "",
            "description_tooltip": null,
            "layout": "IPY_MODEL_d29899e38ad74d6f953e6ce4f84b2ac9",
            "placeholder": "​",
            "style": "IPY_MODEL_9c6548610339465fb563e96a868ee5e6",
            "value": " 996k/996k [00:00&lt;00:00, 1.24MB/s]"
          }
        },
        "efb4f0ba04b0469da1710c2f7464ca39": {
          "model_module": "@jupyter-widgets/base",
          "model_name": "LayoutModel",
          "model_module_version": "1.2.0",
          "state": {
            "_model_module": "@jupyter-widgets/base",
            "_model_module_version": "1.2.0",
            "_model_name": "LayoutModel",
            "_view_count": null,
            "_view_module": "@jupyter-widgets/base",
            "_view_module_version": "1.2.0",
            "_view_name": "LayoutView",
            "align_content": null,
            "align_items": null,
            "align_self": null,
            "border": null,
            "bottom": null,
            "display": null,
            "flex": null,
            "flex_flow": null,
            "grid_area": null,
            "grid_auto_columns": null,
            "grid_auto_flow": null,
            "grid_auto_rows": null,
            "grid_column": null,
            "grid_gap": null,
            "grid_row": null,
            "grid_template_areas": null,
            "grid_template_columns": null,
            "grid_template_rows": null,
            "height": null,
            "justify_content": null,
            "justify_items": null,
            "left": null,
            "margin": null,
            "max_height": null,
            "max_width": null,
            "min_height": null,
            "min_width": null,
            "object_fit": null,
            "object_position": null,
            "order": null,
            "overflow": null,
            "overflow_x": null,
            "overflow_y": null,
            "padding": null,
            "right": null,
            "top": null,
            "visibility": null,
            "width": null
          }
        },
        "d8e266a10a8a454283b348b7ff9a74a9": {
          "model_module": "@jupyter-widgets/base",
          "model_name": "LayoutModel",
          "model_module_version": "1.2.0",
          "state": {
            "_model_module": "@jupyter-widgets/base",
            "_model_module_version": "1.2.0",
            "_model_name": "LayoutModel",
            "_view_count": null,
            "_view_module": "@jupyter-widgets/base",
            "_view_module_version": "1.2.0",
            "_view_name": "LayoutView",
            "align_content": null,
            "align_items": null,
            "align_self": null,
            "border": null,
            "bottom": null,
            "display": null,
            "flex": null,
            "flex_flow": null,
            "grid_area": null,
            "grid_auto_columns": null,
            "grid_auto_flow": null,
            "grid_auto_rows": null,
            "grid_column": null,
            "grid_gap": null,
            "grid_row": null,
            "grid_template_areas": null,
            "grid_template_columns": null,
            "grid_template_rows": null,
            "height": null,
            "justify_content": null,
            "justify_items": null,
            "left": null,
            "margin": null,
            "max_height": null,
            "max_width": null,
            "min_height": null,
            "min_width": null,
            "object_fit": null,
            "object_position": null,
            "order": null,
            "overflow": null,
            "overflow_x": null,
            "overflow_y": null,
            "padding": null,
            "right": null,
            "top": null,
            "visibility": null,
            "width": null
          }
        },
        "cf6e306b094741298692285dd06435ca": {
          "model_module": "@jupyter-widgets/controls",
          "model_name": "DescriptionStyleModel",
          "model_module_version": "1.5.0",
          "state": {
            "_model_module": "@jupyter-widgets/controls",
            "_model_module_version": "1.5.0",
            "_model_name": "DescriptionStyleModel",
            "_view_count": null,
            "_view_module": "@jupyter-widgets/base",
            "_view_module_version": "1.2.0",
            "_view_name": "StyleView",
            "description_width": ""
          }
        },
        "4eca442b37534f00a777e35791b76796": {
          "model_module": "@jupyter-widgets/base",
          "model_name": "LayoutModel",
          "model_module_version": "1.2.0",
          "state": {
            "_model_module": "@jupyter-widgets/base",
            "_model_module_version": "1.2.0",
            "_model_name": "LayoutModel",
            "_view_count": null,
            "_view_module": "@jupyter-widgets/base",
            "_view_module_version": "1.2.0",
            "_view_name": "LayoutView",
            "align_content": null,
            "align_items": null,
            "align_self": null,
            "border": null,
            "bottom": null,
            "display": null,
            "flex": null,
            "flex_flow": null,
            "grid_area": null,
            "grid_auto_columns": null,
            "grid_auto_flow": null,
            "grid_auto_rows": null,
            "grid_column": null,
            "grid_gap": null,
            "grid_row": null,
            "grid_template_areas": null,
            "grid_template_columns": null,
            "grid_template_rows": null,
            "height": null,
            "justify_content": null,
            "justify_items": null,
            "left": null,
            "margin": null,
            "max_height": null,
            "max_width": null,
            "min_height": null,
            "min_width": null,
            "object_fit": null,
            "object_position": null,
            "order": null,
            "overflow": null,
            "overflow_x": null,
            "overflow_y": null,
            "padding": null,
            "right": null,
            "top": null,
            "visibility": null,
            "width": null
          }
        },
        "4454aaf8974b47509fced5a30f5ed88e": {
          "model_module": "@jupyter-widgets/controls",
          "model_name": "ProgressStyleModel",
          "model_module_version": "1.5.0",
          "state": {
            "_model_module": "@jupyter-widgets/controls",
            "_model_module_version": "1.5.0",
            "_model_name": "ProgressStyleModel",
            "_view_count": null,
            "_view_module": "@jupyter-widgets/base",
            "_view_module_version": "1.2.0",
            "_view_name": "StyleView",
            "bar_color": null,
            "description_width": ""
          }
        },
        "d29899e38ad74d6f953e6ce4f84b2ac9": {
          "model_module": "@jupyter-widgets/base",
          "model_name": "LayoutModel",
          "model_module_version": "1.2.0",
          "state": {
            "_model_module": "@jupyter-widgets/base",
            "_model_module_version": "1.2.0",
            "_model_name": "LayoutModel",
            "_view_count": null,
            "_view_module": "@jupyter-widgets/base",
            "_view_module_version": "1.2.0",
            "_view_name": "LayoutView",
            "align_content": null,
            "align_items": null,
            "align_self": null,
            "border": null,
            "bottom": null,
            "display": null,
            "flex": null,
            "flex_flow": null,
            "grid_area": null,
            "grid_auto_columns": null,
            "grid_auto_flow": null,
            "grid_auto_rows": null,
            "grid_column": null,
            "grid_gap": null,
            "grid_row": null,
            "grid_template_areas": null,
            "grid_template_columns": null,
            "grid_template_rows": null,
            "height": null,
            "justify_content": null,
            "justify_items": null,
            "left": null,
            "margin": null,
            "max_height": null,
            "max_width": null,
            "min_height": null,
            "min_width": null,
            "object_fit": null,
            "object_position": null,
            "order": null,
            "overflow": null,
            "overflow_x": null,
            "overflow_y": null,
            "padding": null,
            "right": null,
            "top": null,
            "visibility": null,
            "width": null
          }
        },
        "9c6548610339465fb563e96a868ee5e6": {
          "model_module": "@jupyter-widgets/controls",
          "model_name": "DescriptionStyleModel",
          "model_module_version": "1.5.0",
          "state": {
            "_model_module": "@jupyter-widgets/controls",
            "_model_module_version": "1.5.0",
            "_model_name": "DescriptionStyleModel",
            "_view_count": null,
            "_view_module": "@jupyter-widgets/base",
            "_view_module_version": "1.2.0",
            "_view_name": "StyleView",
            "description_width": ""
          }
        },
        "f634e6ed455c43b6af2e80083cb34a51": {
          "model_module": "@jupyter-widgets/controls",
          "model_name": "HBoxModel",
          "model_module_version": "1.5.0",
          "state": {
            "_dom_classes": [],
            "_model_module": "@jupyter-widgets/controls",
            "_model_module_version": "1.5.0",
            "_model_name": "HBoxModel",
            "_view_count": null,
            "_view_module": "@jupyter-widgets/controls",
            "_view_module_version": "1.5.0",
            "_view_name": "HBoxView",
            "box_style": "",
            "children": [
              "IPY_MODEL_22a92810464a4472a24fb81831a5cc8d",
              "IPY_MODEL_0b82afe8b1244236ba3365e12b4e4931",
              "IPY_MODEL_fc80a40475ab4b82b68a7181af0273f1"
            ],
            "layout": "IPY_MODEL_b9d2b34ef1644a098f4817f9203533a2"
          }
        },
        "22a92810464a4472a24fb81831a5cc8d": {
          "model_module": "@jupyter-widgets/controls",
          "model_name": "HTMLModel",
          "model_module_version": "1.5.0",
          "state": {
            "_dom_classes": [],
            "_model_module": "@jupyter-widgets/controls",
            "_model_module_version": "1.5.0",
            "_model_name": "HTMLModel",
            "_view_count": null,
            "_view_module": "@jupyter-widgets/controls",
            "_view_module_version": "1.5.0",
            "_view_name": "HTMLView",
            "description": "",
            "description_tooltip": null,
            "layout": "IPY_MODEL_a81e1a2858f94214a38b0c196928c017",
            "placeholder": "​",
            "style": "IPY_MODEL_3227c8dde2c64ff3809603a2fae545d2",
            "value": "tokenizer.json: 100%"
          }
        },
        "0b82afe8b1244236ba3365e12b4e4931": {
          "model_module": "@jupyter-widgets/controls",
          "model_name": "FloatProgressModel",
          "model_module_version": "1.5.0",
          "state": {
            "_dom_classes": [],
            "_model_module": "@jupyter-widgets/controls",
            "_model_module_version": "1.5.0",
            "_model_name": "FloatProgressModel",
            "_view_count": null,
            "_view_module": "@jupyter-widgets/controls",
            "_view_module_version": "1.5.0",
            "_view_name": "ProgressView",
            "bar_style": "success",
            "description": "",
            "description_tooltip": null,
            "layout": "IPY_MODEL_275980a4f48e418982586e24e2818b07",
            "max": 1961828,
            "min": 0,
            "orientation": "horizontal",
            "style": "IPY_MODEL_8402c2690a9d412fb9eae26a96af1579",
            "value": 1961828
          }
        },
        "fc80a40475ab4b82b68a7181af0273f1": {
          "model_module": "@jupyter-widgets/controls",
          "model_name": "HTMLModel",
          "model_module_version": "1.5.0",
          "state": {
            "_dom_classes": [],
            "_model_module": "@jupyter-widgets/controls",
            "_model_module_version": "1.5.0",
            "_model_name": "HTMLModel",
            "_view_count": null,
            "_view_module": "@jupyter-widgets/controls",
            "_view_module_version": "1.5.0",
            "_view_name": "HTMLView",
            "description": "",
            "description_tooltip": null,
            "layout": "IPY_MODEL_c013191833364a388b38251f9301f9f9",
            "placeholder": "​",
            "style": "IPY_MODEL_3819b425976f4b09a735b73770d155b8",
            "value": " 1.96M/1.96M [00:00&lt;00:00, 2.46MB/s]"
          }
        },
        "b9d2b34ef1644a098f4817f9203533a2": {
          "model_module": "@jupyter-widgets/base",
          "model_name": "LayoutModel",
          "model_module_version": "1.2.0",
          "state": {
            "_model_module": "@jupyter-widgets/base",
            "_model_module_version": "1.2.0",
            "_model_name": "LayoutModel",
            "_view_count": null,
            "_view_module": "@jupyter-widgets/base",
            "_view_module_version": "1.2.0",
            "_view_name": "LayoutView",
            "align_content": null,
            "align_items": null,
            "align_self": null,
            "border": null,
            "bottom": null,
            "display": null,
            "flex": null,
            "flex_flow": null,
            "grid_area": null,
            "grid_auto_columns": null,
            "grid_auto_flow": null,
            "grid_auto_rows": null,
            "grid_column": null,
            "grid_gap": null,
            "grid_row": null,
            "grid_template_areas": null,
            "grid_template_columns": null,
            "grid_template_rows": null,
            "height": null,
            "justify_content": null,
            "justify_items": null,
            "left": null,
            "margin": null,
            "max_height": null,
            "max_width": null,
            "min_height": null,
            "min_width": null,
            "object_fit": null,
            "object_position": null,
            "order": null,
            "overflow": null,
            "overflow_x": null,
            "overflow_y": null,
            "padding": null,
            "right": null,
            "top": null,
            "visibility": null,
            "width": null
          }
        },
        "a81e1a2858f94214a38b0c196928c017": {
          "model_module": "@jupyter-widgets/base",
          "model_name": "LayoutModel",
          "model_module_version": "1.2.0",
          "state": {
            "_model_module": "@jupyter-widgets/base",
            "_model_module_version": "1.2.0",
            "_model_name": "LayoutModel",
            "_view_count": null,
            "_view_module": "@jupyter-widgets/base",
            "_view_module_version": "1.2.0",
            "_view_name": "LayoutView",
            "align_content": null,
            "align_items": null,
            "align_self": null,
            "border": null,
            "bottom": null,
            "display": null,
            "flex": null,
            "flex_flow": null,
            "grid_area": null,
            "grid_auto_columns": null,
            "grid_auto_flow": null,
            "grid_auto_rows": null,
            "grid_column": null,
            "grid_gap": null,
            "grid_row": null,
            "grid_template_areas": null,
            "grid_template_columns": null,
            "grid_template_rows": null,
            "height": null,
            "justify_content": null,
            "justify_items": null,
            "left": null,
            "margin": null,
            "max_height": null,
            "max_width": null,
            "min_height": null,
            "min_width": null,
            "object_fit": null,
            "object_position": null,
            "order": null,
            "overflow": null,
            "overflow_x": null,
            "overflow_y": null,
            "padding": null,
            "right": null,
            "top": null,
            "visibility": null,
            "width": null
          }
        },
        "3227c8dde2c64ff3809603a2fae545d2": {
          "model_module": "@jupyter-widgets/controls",
          "model_name": "DescriptionStyleModel",
          "model_module_version": "1.5.0",
          "state": {
            "_model_module": "@jupyter-widgets/controls",
            "_model_module_version": "1.5.0",
            "_model_name": "DescriptionStyleModel",
            "_view_count": null,
            "_view_module": "@jupyter-widgets/base",
            "_view_module_version": "1.2.0",
            "_view_name": "StyleView",
            "description_width": ""
          }
        },
        "275980a4f48e418982586e24e2818b07": {
          "model_module": "@jupyter-widgets/base",
          "model_name": "LayoutModel",
          "model_module_version": "1.2.0",
          "state": {
            "_model_module": "@jupyter-widgets/base",
            "_model_module_version": "1.2.0",
            "_model_name": "LayoutModel",
            "_view_count": null,
            "_view_module": "@jupyter-widgets/base",
            "_view_module_version": "1.2.0",
            "_view_name": "LayoutView",
            "align_content": null,
            "align_items": null,
            "align_self": null,
            "border": null,
            "bottom": null,
            "display": null,
            "flex": null,
            "flex_flow": null,
            "grid_area": null,
            "grid_auto_columns": null,
            "grid_auto_flow": null,
            "grid_auto_rows": null,
            "grid_column": null,
            "grid_gap": null,
            "grid_row": null,
            "grid_template_areas": null,
            "grid_template_columns": null,
            "grid_template_rows": null,
            "height": null,
            "justify_content": null,
            "justify_items": null,
            "left": null,
            "margin": null,
            "max_height": null,
            "max_width": null,
            "min_height": null,
            "min_width": null,
            "object_fit": null,
            "object_position": null,
            "order": null,
            "overflow": null,
            "overflow_x": null,
            "overflow_y": null,
            "padding": null,
            "right": null,
            "top": null,
            "visibility": null,
            "width": null
          }
        },
        "8402c2690a9d412fb9eae26a96af1579": {
          "model_module": "@jupyter-widgets/controls",
          "model_name": "ProgressStyleModel",
          "model_module_version": "1.5.0",
          "state": {
            "_model_module": "@jupyter-widgets/controls",
            "_model_module_version": "1.5.0",
            "_model_name": "ProgressStyleModel",
            "_view_count": null,
            "_view_module": "@jupyter-widgets/base",
            "_view_module_version": "1.2.0",
            "_view_name": "StyleView",
            "bar_color": null,
            "description_width": ""
          }
        },
        "c013191833364a388b38251f9301f9f9": {
          "model_module": "@jupyter-widgets/base",
          "model_name": "LayoutModel",
          "model_module_version": "1.2.0",
          "state": {
            "_model_module": "@jupyter-widgets/base",
            "_model_module_version": "1.2.0",
            "_model_name": "LayoutModel",
            "_view_count": null,
            "_view_module": "@jupyter-widgets/base",
            "_view_module_version": "1.2.0",
            "_view_name": "LayoutView",
            "align_content": null,
            "align_items": null,
            "align_self": null,
            "border": null,
            "bottom": null,
            "display": null,
            "flex": null,
            "flex_flow": null,
            "grid_area": null,
            "grid_auto_columns": null,
            "grid_auto_flow": null,
            "grid_auto_rows": null,
            "grid_column": null,
            "grid_gap": null,
            "grid_row": null,
            "grid_template_areas": null,
            "grid_template_columns": null,
            "grid_template_rows": null,
            "height": null,
            "justify_content": null,
            "justify_items": null,
            "left": null,
            "margin": null,
            "max_height": null,
            "max_width": null,
            "min_height": null,
            "min_width": null,
            "object_fit": null,
            "object_position": null,
            "order": null,
            "overflow": null,
            "overflow_x": null,
            "overflow_y": null,
            "padding": null,
            "right": null,
            "top": null,
            "visibility": null,
            "width": null
          }
        },
        "3819b425976f4b09a735b73770d155b8": {
          "model_module": "@jupyter-widgets/controls",
          "model_name": "DescriptionStyleModel",
          "model_module_version": "1.5.0",
          "state": {
            "_model_module": "@jupyter-widgets/controls",
            "_model_module_version": "1.5.0",
            "_model_name": "DescriptionStyleModel",
            "_view_count": null,
            "_view_module": "@jupyter-widgets/base",
            "_view_module_version": "1.2.0",
            "_view_name": "StyleView",
            "description_width": ""
          }
        },
        "192608d7a2494dd1957720825f5d70ce": {
          "model_module": "@jupyter-widgets/controls",
          "model_name": "HBoxModel",
          "model_module_version": "1.5.0",
          "state": {
            "_dom_classes": [],
            "_model_module": "@jupyter-widgets/controls",
            "_model_module_version": "1.5.0",
            "_model_name": "HBoxModel",
            "_view_count": null,
            "_view_module": "@jupyter-widgets/controls",
            "_view_module_version": "1.5.0",
            "_view_name": "HBoxView",
            "box_style": "",
            "children": [
              "IPY_MODEL_7ee24003af974899a51391f522fd7ca2",
              "IPY_MODEL_adc66a4c5d924d43a450c2a06576be08",
              "IPY_MODEL_6afbf5f46edd47978c589547a473d17c"
            ],
            "layout": "IPY_MODEL_6608d32ef42244df9d8d221ea4e9fa9d"
          }
        },
        "7ee24003af974899a51391f522fd7ca2": {
          "model_module": "@jupyter-widgets/controls",
          "model_name": "HTMLModel",
          "model_module_version": "1.5.0",
          "state": {
            "_dom_classes": [],
            "_model_module": "@jupyter-widgets/controls",
            "_model_module_version": "1.5.0",
            "_model_name": "HTMLModel",
            "_view_count": null,
            "_view_module": "@jupyter-widgets/controls",
            "_view_module_version": "1.5.0",
            "_view_name": "HTMLView",
            "description": "",
            "description_tooltip": null,
            "layout": "IPY_MODEL_589774315d6a4bcf92b552904366005a",
            "placeholder": "​",
            "style": "IPY_MODEL_be17a8c8483843baa87454bf7dd3b19c",
            "value": "model.safetensors: 100%"
          }
        },
        "adc66a4c5d924d43a450c2a06576be08": {
          "model_module": "@jupyter-widgets/controls",
          "model_name": "FloatProgressModel",
          "model_module_version": "1.5.0",
          "state": {
            "_dom_classes": [],
            "_model_module": "@jupyter-widgets/controls",
            "_model_module_version": "1.5.0",
            "_model_name": "FloatProgressModel",
            "_view_count": null,
            "_view_module": "@jupyter-widgets/controls",
            "_view_module_version": "1.5.0",
            "_view_name": "ProgressView",
            "bar_style": "success",
            "description": "",
            "description_tooltip": null,
            "layout": "IPY_MODEL_c15880167c5a4e66a59f956e2aff42a5",
            "max": 714290682,
            "min": 0,
            "orientation": "horizontal",
            "style": "IPY_MODEL_20317246cbe849e89dda773a0b8b8f30",
            "value": 714290682
          }
        },
        "6afbf5f46edd47978c589547a473d17c": {
          "model_module": "@jupyter-widgets/controls",
          "model_name": "HTMLModel",
          "model_module_version": "1.5.0",
          "state": {
            "_dom_classes": [],
            "_model_module": "@jupyter-widgets/controls",
            "_model_module_version": "1.5.0",
            "_model_name": "HTMLModel",
            "_view_count": null,
            "_view_module": "@jupyter-widgets/controls",
            "_view_module_version": "1.5.0",
            "_view_name": "HTMLView",
            "description": "",
            "description_tooltip": null,
            "layout": "IPY_MODEL_81284315231e4fee93078a80b4fa775f",
            "placeholder": "​",
            "style": "IPY_MODEL_b0664783c7e445f99d90d9773503e74e",
            "value": " 714M/714M [00:12&lt;00:00, 58.7MB/s]"
          }
        },
        "6608d32ef42244df9d8d221ea4e9fa9d": {
          "model_module": "@jupyter-widgets/base",
          "model_name": "LayoutModel",
          "model_module_version": "1.2.0",
          "state": {
            "_model_module": "@jupyter-widgets/base",
            "_model_module_version": "1.2.0",
            "_model_name": "LayoutModel",
            "_view_count": null,
            "_view_module": "@jupyter-widgets/base",
            "_view_module_version": "1.2.0",
            "_view_name": "LayoutView",
            "align_content": null,
            "align_items": null,
            "align_self": null,
            "border": null,
            "bottom": null,
            "display": null,
            "flex": null,
            "flex_flow": null,
            "grid_area": null,
            "grid_auto_columns": null,
            "grid_auto_flow": null,
            "grid_auto_rows": null,
            "grid_column": null,
            "grid_gap": null,
            "grid_row": null,
            "grid_template_areas": null,
            "grid_template_columns": null,
            "grid_template_rows": null,
            "height": null,
            "justify_content": null,
            "justify_items": null,
            "left": null,
            "margin": null,
            "max_height": null,
            "max_width": null,
            "min_height": null,
            "min_width": null,
            "object_fit": null,
            "object_position": null,
            "order": null,
            "overflow": null,
            "overflow_x": null,
            "overflow_y": null,
            "padding": null,
            "right": null,
            "top": null,
            "visibility": null,
            "width": null
          }
        },
        "589774315d6a4bcf92b552904366005a": {
          "model_module": "@jupyter-widgets/base",
          "model_name": "LayoutModel",
          "model_module_version": "1.2.0",
          "state": {
            "_model_module": "@jupyter-widgets/base",
            "_model_module_version": "1.2.0",
            "_model_name": "LayoutModel",
            "_view_count": null,
            "_view_module": "@jupyter-widgets/base",
            "_view_module_version": "1.2.0",
            "_view_name": "LayoutView",
            "align_content": null,
            "align_items": null,
            "align_self": null,
            "border": null,
            "bottom": null,
            "display": null,
            "flex": null,
            "flex_flow": null,
            "grid_area": null,
            "grid_auto_columns": null,
            "grid_auto_flow": null,
            "grid_auto_rows": null,
            "grid_column": null,
            "grid_gap": null,
            "grid_row": null,
            "grid_template_areas": null,
            "grid_template_columns": null,
            "grid_template_rows": null,
            "height": null,
            "justify_content": null,
            "justify_items": null,
            "left": null,
            "margin": null,
            "max_height": null,
            "max_width": null,
            "min_height": null,
            "min_width": null,
            "object_fit": null,
            "object_position": null,
            "order": null,
            "overflow": null,
            "overflow_x": null,
            "overflow_y": null,
            "padding": null,
            "right": null,
            "top": null,
            "visibility": null,
            "width": null
          }
        },
        "be17a8c8483843baa87454bf7dd3b19c": {
          "model_module": "@jupyter-widgets/controls",
          "model_name": "DescriptionStyleModel",
          "model_module_version": "1.5.0",
          "state": {
            "_model_module": "@jupyter-widgets/controls",
            "_model_module_version": "1.5.0",
            "_model_name": "DescriptionStyleModel",
            "_view_count": null,
            "_view_module": "@jupyter-widgets/base",
            "_view_module_version": "1.2.0",
            "_view_name": "StyleView",
            "description_width": ""
          }
        },
        "c15880167c5a4e66a59f956e2aff42a5": {
          "model_module": "@jupyter-widgets/base",
          "model_name": "LayoutModel",
          "model_module_version": "1.2.0",
          "state": {
            "_model_module": "@jupyter-widgets/base",
            "_model_module_version": "1.2.0",
            "_model_name": "LayoutModel",
            "_view_count": null,
            "_view_module": "@jupyter-widgets/base",
            "_view_module_version": "1.2.0",
            "_view_name": "LayoutView",
            "align_content": null,
            "align_items": null,
            "align_self": null,
            "border": null,
            "bottom": null,
            "display": null,
            "flex": null,
            "flex_flow": null,
            "grid_area": null,
            "grid_auto_columns": null,
            "grid_auto_flow": null,
            "grid_auto_rows": null,
            "grid_column": null,
            "grid_gap": null,
            "grid_row": null,
            "grid_template_areas": null,
            "grid_template_columns": null,
            "grid_template_rows": null,
            "height": null,
            "justify_content": null,
            "justify_items": null,
            "left": null,
            "margin": null,
            "max_height": null,
            "max_width": null,
            "min_height": null,
            "min_width": null,
            "object_fit": null,
            "object_position": null,
            "order": null,
            "overflow": null,
            "overflow_x": null,
            "overflow_y": null,
            "padding": null,
            "right": null,
            "top": null,
            "visibility": null,
            "width": null
          }
        },
        "20317246cbe849e89dda773a0b8b8f30": {
          "model_module": "@jupyter-widgets/controls",
          "model_name": "ProgressStyleModel",
          "model_module_version": "1.5.0",
          "state": {
            "_model_module": "@jupyter-widgets/controls",
            "_model_module_version": "1.5.0",
            "_model_name": "ProgressStyleModel",
            "_view_count": null,
            "_view_module": "@jupyter-widgets/base",
            "_view_module_version": "1.2.0",
            "_view_name": "StyleView",
            "bar_color": null,
            "description_width": ""
          }
        },
        "81284315231e4fee93078a80b4fa775f": {
          "model_module": "@jupyter-widgets/base",
          "model_name": "LayoutModel",
          "model_module_version": "1.2.0",
          "state": {
            "_model_module": "@jupyter-widgets/base",
            "_model_module_version": "1.2.0",
            "_model_name": "LayoutModel",
            "_view_count": null,
            "_view_module": "@jupyter-widgets/base",
            "_view_module_version": "1.2.0",
            "_view_name": "LayoutView",
            "align_content": null,
            "align_items": null,
            "align_self": null,
            "border": null,
            "bottom": null,
            "display": null,
            "flex": null,
            "flex_flow": null,
            "grid_area": null,
            "grid_auto_columns": null,
            "grid_auto_flow": null,
            "grid_auto_rows": null,
            "grid_column": null,
            "grid_gap": null,
            "grid_row": null,
            "grid_template_areas": null,
            "grid_template_columns": null,
            "grid_template_rows": null,
            "height": null,
            "justify_content": null,
            "justify_items": null,
            "left": null,
            "margin": null,
            "max_height": null,
            "max_width": null,
            "min_height": null,
            "min_width": null,
            "object_fit": null,
            "object_position": null,
            "order": null,
            "overflow": null,
            "overflow_x": null,
            "overflow_y": null,
            "padding": null,
            "right": null,
            "top": null,
            "visibility": null,
            "width": null
          }
        },
        "b0664783c7e445f99d90d9773503e74e": {
          "model_module": "@jupyter-widgets/controls",
          "model_name": "DescriptionStyleModel",
          "model_module_version": "1.5.0",
          "state": {
            "_model_module": "@jupyter-widgets/controls",
            "_model_module_version": "1.5.0",
            "_model_name": "DescriptionStyleModel",
            "_view_count": null,
            "_view_module": "@jupyter-widgets/base",
            "_view_module_version": "1.2.0",
            "_view_name": "StyleView",
            "description_width": ""
          }
        },
        "1848d7c718cd4958b99828d000b0e581": {
          "model_module": "@jupyter-widgets/controls",
          "model_name": "HBoxModel",
          "model_module_version": "1.5.0",
          "state": {
            "_dom_classes": [],
            "_model_module": "@jupyter-widgets/controls",
            "_model_module_version": "1.5.0",
            "_model_name": "HBoxModel",
            "_view_count": null,
            "_view_module": "@jupyter-widgets/controls",
            "_view_module_version": "1.5.0",
            "_view_name": "HBoxView",
            "box_style": "",
            "children": [
              "IPY_MODEL_e1c92e52d52f4e6f81dc863012b4ae49",
              "IPY_MODEL_63acfb0f35bb498c90ab8e452e29ebe1",
              "IPY_MODEL_3f6610dd71a8493a813ab07af814fe75"
            ],
            "layout": "IPY_MODEL_9326d720bb5f482da8a03d0837981d8d"
          }
        },
        "e1c92e52d52f4e6f81dc863012b4ae49": {
          "model_module": "@jupyter-widgets/controls",
          "model_name": "HTMLModel",
          "model_module_version": "1.5.0",
          "state": {
            "_dom_classes": [],
            "_model_module": "@jupyter-widgets/controls",
            "_model_module_version": "1.5.0",
            "_model_name": "HTMLModel",
            "_view_count": null,
            "_view_module": "@jupyter-widgets/controls",
            "_view_module_version": "1.5.0",
            "_view_name": "HTMLView",
            "description": "",
            "description_tooltip": null,
            "layout": "IPY_MODEL_cad1d661a16746328eb918f0b9b11d13",
            "placeholder": "​",
            "style": "IPY_MODEL_30794e784fe54d6ba4cb5d05ec42d3d4",
            "value": "Downloading builder script: 100%"
          }
        },
        "63acfb0f35bb498c90ab8e452e29ebe1": {
          "model_module": "@jupyter-widgets/controls",
          "model_name": "FloatProgressModel",
          "model_module_version": "1.5.0",
          "state": {
            "_dom_classes": [],
            "_model_module": "@jupyter-widgets/controls",
            "_model_module_version": "1.5.0",
            "_model_name": "FloatProgressModel",
            "_view_count": null,
            "_view_module": "@jupyter-widgets/controls",
            "_view_module_version": "1.5.0",
            "_view_name": "ProgressView",
            "bar_style": "success",
            "description": "",
            "description_tooltip": null,
            "layout": "IPY_MODEL_ccfc4cad62664811a5d005f7e9030b0d",
            "max": 5195,
            "min": 0,
            "orientation": "horizontal",
            "style": "IPY_MODEL_1096291e9bf845e4aa457e33b2fe31be",
            "value": 5195
          }
        },
        "3f6610dd71a8493a813ab07af814fe75": {
          "model_module": "@jupyter-widgets/controls",
          "model_name": "HTMLModel",
          "model_module_version": "1.5.0",
          "state": {
            "_dom_classes": [],
            "_model_module": "@jupyter-widgets/controls",
            "_model_module_version": "1.5.0",
            "_model_name": "HTMLModel",
            "_view_count": null,
            "_view_module": "@jupyter-widgets/controls",
            "_view_module_version": "1.5.0",
            "_view_name": "HTMLView",
            "description": "",
            "description_tooltip": null,
            "layout": "IPY_MODEL_09f72f89bdc9417897609271ce09ac07",
            "placeholder": "​",
            "style": "IPY_MODEL_3f14c15cefff4d82af81140708805f67",
            "value": " 5.20k/5.20k [00:00&lt;00:00, 277kB/s]"
          }
        },
        "9326d720bb5f482da8a03d0837981d8d": {
          "model_module": "@jupyter-widgets/base",
          "model_name": "LayoutModel",
          "model_module_version": "1.2.0",
          "state": {
            "_model_module": "@jupyter-widgets/base",
            "_model_module_version": "1.2.0",
            "_model_name": "LayoutModel",
            "_view_count": null,
            "_view_module": "@jupyter-widgets/base",
            "_view_module_version": "1.2.0",
            "_view_name": "LayoutView",
            "align_content": null,
            "align_items": null,
            "align_self": null,
            "border": null,
            "bottom": null,
            "display": null,
            "flex": null,
            "flex_flow": null,
            "grid_area": null,
            "grid_auto_columns": null,
            "grid_auto_flow": null,
            "grid_auto_rows": null,
            "grid_column": null,
            "grid_gap": null,
            "grid_row": null,
            "grid_template_areas": null,
            "grid_template_columns": null,
            "grid_template_rows": null,
            "height": null,
            "justify_content": null,
            "justify_items": null,
            "left": null,
            "margin": null,
            "max_height": null,
            "max_width": null,
            "min_height": null,
            "min_width": null,
            "object_fit": null,
            "object_position": null,
            "order": null,
            "overflow": null,
            "overflow_x": null,
            "overflow_y": null,
            "padding": null,
            "right": null,
            "top": null,
            "visibility": null,
            "width": null
          }
        },
        "cad1d661a16746328eb918f0b9b11d13": {
          "model_module": "@jupyter-widgets/base",
          "model_name": "LayoutModel",
          "model_module_version": "1.2.0",
          "state": {
            "_model_module": "@jupyter-widgets/base",
            "_model_module_version": "1.2.0",
            "_model_name": "LayoutModel",
            "_view_count": null,
            "_view_module": "@jupyter-widgets/base",
            "_view_module_version": "1.2.0",
            "_view_name": "LayoutView",
            "align_content": null,
            "align_items": null,
            "align_self": null,
            "border": null,
            "bottom": null,
            "display": null,
            "flex": null,
            "flex_flow": null,
            "grid_area": null,
            "grid_auto_columns": null,
            "grid_auto_flow": null,
            "grid_auto_rows": null,
            "grid_column": null,
            "grid_gap": null,
            "grid_row": null,
            "grid_template_areas": null,
            "grid_template_columns": null,
            "grid_template_rows": null,
            "height": null,
            "justify_content": null,
            "justify_items": null,
            "left": null,
            "margin": null,
            "max_height": null,
            "max_width": null,
            "min_height": null,
            "min_width": null,
            "object_fit": null,
            "object_position": null,
            "order": null,
            "overflow": null,
            "overflow_x": null,
            "overflow_y": null,
            "padding": null,
            "right": null,
            "top": null,
            "visibility": null,
            "width": null
          }
        },
        "30794e784fe54d6ba4cb5d05ec42d3d4": {
          "model_module": "@jupyter-widgets/controls",
          "model_name": "DescriptionStyleModel",
          "model_module_version": "1.5.0",
          "state": {
            "_model_module": "@jupyter-widgets/controls",
            "_model_module_version": "1.5.0",
            "_model_name": "DescriptionStyleModel",
            "_view_count": null,
            "_view_module": "@jupyter-widgets/base",
            "_view_module_version": "1.2.0",
            "_view_name": "StyleView",
            "description_width": ""
          }
        },
        "ccfc4cad62664811a5d005f7e9030b0d": {
          "model_module": "@jupyter-widgets/base",
          "model_name": "LayoutModel",
          "model_module_version": "1.2.0",
          "state": {
            "_model_module": "@jupyter-widgets/base",
            "_model_module_version": "1.2.0",
            "_model_name": "LayoutModel",
            "_view_count": null,
            "_view_module": "@jupyter-widgets/base",
            "_view_module_version": "1.2.0",
            "_view_name": "LayoutView",
            "align_content": null,
            "align_items": null,
            "align_self": null,
            "border": null,
            "bottom": null,
            "display": null,
            "flex": null,
            "flex_flow": null,
            "grid_area": null,
            "grid_auto_columns": null,
            "grid_auto_flow": null,
            "grid_auto_rows": null,
            "grid_column": null,
            "grid_gap": null,
            "grid_row": null,
            "grid_template_areas": null,
            "grid_template_columns": null,
            "grid_template_rows": null,
            "height": null,
            "justify_content": null,
            "justify_items": null,
            "left": null,
            "margin": null,
            "max_height": null,
            "max_width": null,
            "min_height": null,
            "min_width": null,
            "object_fit": null,
            "object_position": null,
            "order": null,
            "overflow": null,
            "overflow_x": null,
            "overflow_y": null,
            "padding": null,
            "right": null,
            "top": null,
            "visibility": null,
            "width": null
          }
        },
        "1096291e9bf845e4aa457e33b2fe31be": {
          "model_module": "@jupyter-widgets/controls",
          "model_name": "ProgressStyleModel",
          "model_module_version": "1.5.0",
          "state": {
            "_model_module": "@jupyter-widgets/controls",
            "_model_module_version": "1.5.0",
            "_model_name": "ProgressStyleModel",
            "_view_count": null,
            "_view_module": "@jupyter-widgets/base",
            "_view_module_version": "1.2.0",
            "_view_name": "StyleView",
            "bar_color": null,
            "description_width": ""
          }
        },
        "09f72f89bdc9417897609271ce09ac07": {
          "model_module": "@jupyter-widgets/base",
          "model_name": "LayoutModel",
          "model_module_version": "1.2.0",
          "state": {
            "_model_module": "@jupyter-widgets/base",
            "_model_module_version": "1.2.0",
            "_model_name": "LayoutModel",
            "_view_count": null,
            "_view_module": "@jupyter-widgets/base",
            "_view_module_version": "1.2.0",
            "_view_name": "LayoutView",
            "align_content": null,
            "align_items": null,
            "align_self": null,
            "border": null,
            "bottom": null,
            "display": null,
            "flex": null,
            "flex_flow": null,
            "grid_area": null,
            "grid_auto_columns": null,
            "grid_auto_flow": null,
            "grid_auto_rows": null,
            "grid_column": null,
            "grid_gap": null,
            "grid_row": null,
            "grid_template_areas": null,
            "grid_template_columns": null,
            "grid_template_rows": null,
            "height": null,
            "justify_content": null,
            "justify_items": null,
            "left": null,
            "margin": null,
            "max_height": null,
            "max_width": null,
            "min_height": null,
            "min_width": null,
            "object_fit": null,
            "object_position": null,
            "order": null,
            "overflow": null,
            "overflow_x": null,
            "overflow_y": null,
            "padding": null,
            "right": null,
            "top": null,
            "visibility": null,
            "width": null
          }
        },
        "3f14c15cefff4d82af81140708805f67": {
          "model_module": "@jupyter-widgets/controls",
          "model_name": "DescriptionStyleModel",
          "model_module_version": "1.5.0",
          "state": {
            "_model_module": "@jupyter-widgets/controls",
            "_model_module_version": "1.5.0",
            "_model_name": "DescriptionStyleModel",
            "_view_count": null,
            "_view_module": "@jupyter-widgets/base",
            "_view_module_version": "1.2.0",
            "_view_name": "StyleView",
            "description_width": ""
          }
        },
        "8c8e7e7647204a2dbc9e7fef6250c659": {
          "model_module": "@jupyter-widgets/controls",
          "model_name": "HBoxModel",
          "model_module_version": "1.5.0",
          "state": {
            "_dom_classes": [],
            "_model_module": "@jupyter-widgets/controls",
            "_model_module_version": "1.5.0",
            "_model_name": "HBoxModel",
            "_view_count": null,
            "_view_module": "@jupyter-widgets/controls",
            "_view_module_version": "1.5.0",
            "_view_name": "HBoxView",
            "box_style": "",
            "children": [
              "IPY_MODEL_c61bd3e59ba34cb7b625e0c837c5296e",
              "IPY_MODEL_d611ec0df21b49589660750e058372f9",
              "IPY_MODEL_904b7b102d3949bca8113885e39cf1fc"
            ],
            "layout": "IPY_MODEL_a243ce9b66fb430fb065b7eccc3031a3"
          }
        },
        "c61bd3e59ba34cb7b625e0c837c5296e": {
          "model_module": "@jupyter-widgets/controls",
          "model_name": "HTMLModel",
          "model_module_version": "1.5.0",
          "state": {
            "_dom_classes": [],
            "_model_module": "@jupyter-widgets/controls",
            "_model_module_version": "1.5.0",
            "_model_name": "HTMLModel",
            "_view_count": null,
            "_view_module": "@jupyter-widgets/controls",
            "_view_module_version": "1.5.0",
            "_view_name": "HTMLView",
            "description": "",
            "description_tooltip": null,
            "layout": "IPY_MODEL_ba74a318c2f44125add660213ae5d677",
            "placeholder": "​",
            "style": "IPY_MODEL_ccace7c5a8094a0688bf4000ff8229de",
            "value": "Downloading data: 100%"
          }
        },
        "d611ec0df21b49589660750e058372f9": {
          "model_module": "@jupyter-widgets/controls",
          "model_name": "FloatProgressModel",
          "model_module_version": "1.5.0",
          "state": {
            "_dom_classes": [],
            "_model_module": "@jupyter-widgets/controls",
            "_model_module_version": "1.5.0",
            "_model_name": "FloatProgressModel",
            "_view_count": null,
            "_view_module": "@jupyter-widgets/controls",
            "_view_module_version": "1.5.0",
            "_view_name": "ProgressView",
            "bar_style": "success",
            "description": "",
            "description_tooltip": null,
            "layout": "IPY_MODEL_09a5c4bdcbb5461fb112245fa1b82dc1",
            "max": 405489453,
            "min": 0,
            "orientation": "horizontal",
            "style": "IPY_MODEL_1ca0463c467e43e0b808c5d4e105fe4c",
            "value": 405489453
          }
        },
        "904b7b102d3949bca8113885e39cf1fc": {
          "model_module": "@jupyter-widgets/controls",
          "model_name": "HTMLModel",
          "model_module_version": "1.5.0",
          "state": {
            "_dom_classes": [],
            "_model_module": "@jupyter-widgets/controls",
            "_model_module_version": "1.5.0",
            "_model_name": "HTMLModel",
            "_view_count": null,
            "_view_module": "@jupyter-widgets/controls",
            "_view_module_version": "1.5.0",
            "_view_name": "HTMLView",
            "description": "",
            "description_tooltip": null,
            "layout": "IPY_MODEL_6399121cbc2a4bccbd384fa2749a7694",
            "placeholder": "​",
            "style": "IPY_MODEL_e45c79886c8e42258ee009a875e9dc73",
            "value": " 405M/405M [00:14&lt;00:00, 31.4MB/s]"
          }
        },
        "a243ce9b66fb430fb065b7eccc3031a3": {
          "model_module": "@jupyter-widgets/base",
          "model_name": "LayoutModel",
          "model_module_version": "1.2.0",
          "state": {
            "_model_module": "@jupyter-widgets/base",
            "_model_module_version": "1.2.0",
            "_model_name": "LayoutModel",
            "_view_count": null,
            "_view_module": "@jupyter-widgets/base",
            "_view_module_version": "1.2.0",
            "_view_name": "LayoutView",
            "align_content": null,
            "align_items": null,
            "align_self": null,
            "border": null,
            "bottom": null,
            "display": null,
            "flex": null,
            "flex_flow": null,
            "grid_area": null,
            "grid_auto_columns": null,
            "grid_auto_flow": null,
            "grid_auto_rows": null,
            "grid_column": null,
            "grid_gap": null,
            "grid_row": null,
            "grid_template_areas": null,
            "grid_template_columns": null,
            "grid_template_rows": null,
            "height": null,
            "justify_content": null,
            "justify_items": null,
            "left": null,
            "margin": null,
            "max_height": null,
            "max_width": null,
            "min_height": null,
            "min_width": null,
            "object_fit": null,
            "object_position": null,
            "order": null,
            "overflow": null,
            "overflow_x": null,
            "overflow_y": null,
            "padding": null,
            "right": null,
            "top": null,
            "visibility": null,
            "width": null
          }
        },
        "ba74a318c2f44125add660213ae5d677": {
          "model_module": "@jupyter-widgets/base",
          "model_name": "LayoutModel",
          "model_module_version": "1.2.0",
          "state": {
            "_model_module": "@jupyter-widgets/base",
            "_model_module_version": "1.2.0",
            "_model_name": "LayoutModel",
            "_view_count": null,
            "_view_module": "@jupyter-widgets/base",
            "_view_module_version": "1.2.0",
            "_view_name": "LayoutView",
            "align_content": null,
            "align_items": null,
            "align_self": null,
            "border": null,
            "bottom": null,
            "display": null,
            "flex": null,
            "flex_flow": null,
            "grid_area": null,
            "grid_auto_columns": null,
            "grid_auto_flow": null,
            "grid_auto_rows": null,
            "grid_column": null,
            "grid_gap": null,
            "grid_row": null,
            "grid_template_areas": null,
            "grid_template_columns": null,
            "grid_template_rows": null,
            "height": null,
            "justify_content": null,
            "justify_items": null,
            "left": null,
            "margin": null,
            "max_height": null,
            "max_width": null,
            "min_height": null,
            "min_width": null,
            "object_fit": null,
            "object_position": null,
            "order": null,
            "overflow": null,
            "overflow_x": null,
            "overflow_y": null,
            "padding": null,
            "right": null,
            "top": null,
            "visibility": null,
            "width": null
          }
        },
        "ccace7c5a8094a0688bf4000ff8229de": {
          "model_module": "@jupyter-widgets/controls",
          "model_name": "DescriptionStyleModel",
          "model_module_version": "1.5.0",
          "state": {
            "_model_module": "@jupyter-widgets/controls",
            "_model_module_version": "1.5.0",
            "_model_name": "DescriptionStyleModel",
            "_view_count": null,
            "_view_module": "@jupyter-widgets/base",
            "_view_module_version": "1.2.0",
            "_view_name": "StyleView",
            "description_width": ""
          }
        },
        "09a5c4bdcbb5461fb112245fa1b82dc1": {
          "model_module": "@jupyter-widgets/base",
          "model_name": "LayoutModel",
          "model_module_version": "1.2.0",
          "state": {
            "_model_module": "@jupyter-widgets/base",
            "_model_module_version": "1.2.0",
            "_model_name": "LayoutModel",
            "_view_count": null,
            "_view_module": "@jupyter-widgets/base",
            "_view_module_version": "1.2.0",
            "_view_name": "LayoutView",
            "align_content": null,
            "align_items": null,
            "align_self": null,
            "border": null,
            "bottom": null,
            "display": null,
            "flex": null,
            "flex_flow": null,
            "grid_area": null,
            "grid_auto_columns": null,
            "grid_auto_flow": null,
            "grid_auto_rows": null,
            "grid_column": null,
            "grid_gap": null,
            "grid_row": null,
            "grid_template_areas": null,
            "grid_template_columns": null,
            "grid_template_rows": null,
            "height": null,
            "justify_content": null,
            "justify_items": null,
            "left": null,
            "margin": null,
            "max_height": null,
            "max_width": null,
            "min_height": null,
            "min_width": null,
            "object_fit": null,
            "object_position": null,
            "order": null,
            "overflow": null,
            "overflow_x": null,
            "overflow_y": null,
            "padding": null,
            "right": null,
            "top": null,
            "visibility": null,
            "width": null
          }
        },
        "1ca0463c467e43e0b808c5d4e105fe4c": {
          "model_module": "@jupyter-widgets/controls",
          "model_name": "ProgressStyleModel",
          "model_module_version": "1.5.0",
          "state": {
            "_model_module": "@jupyter-widgets/controls",
            "_model_module_version": "1.5.0",
            "_model_name": "ProgressStyleModel",
            "_view_count": null,
            "_view_module": "@jupyter-widgets/base",
            "_view_module_version": "1.2.0",
            "_view_name": "StyleView",
            "bar_color": null,
            "description_width": ""
          }
        },
        "6399121cbc2a4bccbd384fa2749a7694": {
          "model_module": "@jupyter-widgets/base",
          "model_name": "LayoutModel",
          "model_module_version": "1.2.0",
          "state": {
            "_model_module": "@jupyter-widgets/base",
            "_model_module_version": "1.2.0",
            "_model_name": "LayoutModel",
            "_view_count": null,
            "_view_module": "@jupyter-widgets/base",
            "_view_module_version": "1.2.0",
            "_view_name": "LayoutView",
            "align_content": null,
            "align_items": null,
            "align_self": null,
            "border": null,
            "bottom": null,
            "display": null,
            "flex": null,
            "flex_flow": null,
            "grid_area": null,
            "grid_auto_columns": null,
            "grid_auto_flow": null,
            "grid_auto_rows": null,
            "grid_column": null,
            "grid_gap": null,
            "grid_row": null,
            "grid_template_areas": null,
            "grid_template_columns": null,
            "grid_template_rows": null,
            "height": null,
            "justify_content": null,
            "justify_items": null,
            "left": null,
            "margin": null,
            "max_height": null,
            "max_width": null,
            "min_height": null,
            "min_width": null,
            "object_fit": null,
            "object_position": null,
            "order": null,
            "overflow": null,
            "overflow_x": null,
            "overflow_y": null,
            "padding": null,
            "right": null,
            "top": null,
            "visibility": null,
            "width": null
          }
        },
        "e45c79886c8e42258ee009a875e9dc73": {
          "model_module": "@jupyter-widgets/controls",
          "model_name": "DescriptionStyleModel",
          "model_module_version": "1.5.0",
          "state": {
            "_model_module": "@jupyter-widgets/controls",
            "_model_module_version": "1.5.0",
            "_model_name": "DescriptionStyleModel",
            "_view_count": null,
            "_view_module": "@jupyter-widgets/base",
            "_view_module_version": "1.2.0",
            "_view_name": "StyleView",
            "description_width": ""
          }
        }
      }
    }
  },
  "cells": [
    {
      "cell_type": "markdown",
      "metadata": {
        "id": "view-in-github",
        "colab_type": "text"
      },
      "source": [
        "<a href=\"https://colab.research.google.com/github/davidpedem/masterPLIA2324-traduccion-automatica-sesion-1-davidpedem/blob/main/Comparativa_Traducciones.ipynb\" target=\"_parent\"><img src=\"https://colab.research.google.com/assets/colab-badge.svg\" alt=\"Open In Colab\"/></a>"
      ]
    },
    {
      "cell_type": "markdown",
      "source": [
        "#Evaluación Comparativas Traducciones"
      ],
      "metadata": {
        "id": "2D48EuGZTFFi"
      }
    },
    {
      "cell_type": "code",
      "execution_count": 15,
      "metadata": {
        "id": "O6K9hli0SlWp"
      },
      "outputs": [],
      "source": [
        "!pip install evaluate -Uq"
      ]
    },
    {
      "cell_type": "code",
      "source": [
        "!pip install jiwer bert_score git+https://github.com/google-research/bleurt.git -Uq"
      ],
      "metadata": {
        "colab": {
          "base_uri": "https://localhost:8080/"
        },
        "id": "m3U0Vxa4TDRG",
        "outputId": "8138336c-1cc8-47e1-d62d-e4b2369f0dfd"
      },
      "execution_count": 16,
      "outputs": [
        {
          "output_type": "stream",
          "name": "stdout",
          "text": [
            "  Preparing metadata (setup.py) ... \u001b[?25l\u001b[?25hdone\n"
          ]
        }
      ]
    },
    {
      "cell_type": "code",
      "source": [
        "referencia_txt = \"In a hole in the ground there lived a hobbit. Not a nasty, dirty, wet hole, filled with the ends of worms and an oozy smell, nor yet a dry, bare, sandy hole with nothing in it to sit down on or to eat: it was a hobbit-hole, and that means comfort. It had a perfectly round door like a porthole, painted green, with a shiny yellow brass knob in the exact middle. The door opened on to a tube-shaped hall like a tunnel: a very comfortable tunnel without smoke, with panelled walls, and floors tiled and carpeted, provided with polished chairs, and lots and lots of pegs for hats and coats - the hobbit was fond of visitors. The tunnel wound on and on, going fairly but not quite straight into the side of the hill - The Hill, as all the people for many miles round called it - and many little round doors opened out of it, first on one side and then on another. No going upstairs for the hobbit: bedrooms, bathrooms, cellars, pantries (lots of these), wardrobes (he had whole rooms devoted to clothes), kitchens, dining-rooms, all were on the same floor, and indeed on the same passage. The best rooms were all on the lefthand side (going in), for these were the only ones to have windows, deep-set round windows looking over his garden, and meadows beyond, sloping down to the river. This hobbit was a very well-to-do hobbit, and his name was Baggins. The Bagginses had lived in the neighbourhood of The Hill for time out of mind, and people considered them very respectable, not only because most of them were rich, but also because they never had any adventures or did anything unexpected: you could tell what a Baggins would say on any question without the bother of asking him. This is a story of how a Baggins had an adventure, and found himself doing and saying things altogether unexpected. He may have lost the neighbours’ respect, but he gained - well, you will see whether he gained anything in the end. The mother of our particular hobbit - what is a hobbit? I suppose hobbits need some description nowadays, since they have become rare and shy of the Big People, as they call us. They are (or were) a little people, about half our height, and smaller than the bearded Dwarves. Hobbits have no beards. There is little or no magic about them, except the ordinary everyday sort which helps them to disappear quietly and quickly when large stupid folk like you and me come blundering along, making a noise like elephants which they can hear a mile off. They are inclined to be fat in the stomach; they dress in bright colours (chiefly green and yellow); wear no shoes, because their feet grow natural leathery soles and thick warm brown hair like the stuff on their heads (which is curly).\"\n",
        "trad_1 = \"En un agujero en el suelo vivía un hobbit. No un agujero húmedo, sucio, repugnante, con restos de gusanos y olor a fango, ni tampoco un agujero seco, desnudo y arenoso, sin nada en que sentarse o que comer: era un agujero-hobbit, y eso significa comodidad.Tenía una puerta redonda, perfecta como un ojo de buey, pintada de verde, con una manilla de bronce dorada y brillante, justo en el medio. La puerta se abría a un vestíbulo cilíndrico, como un túnel: un túnel muy cómodo, sin humos, con paredes revestidas de madera y suelos enlosados y alfombrados, provisto de sillas barnizadas, y montones y montones de perchas para sombreros y abrigos; el hobbit era aficionado a las visitas. El túnel se extendía serpeando, y penetraba bastante, pero no directamente, en la ladera de la colina – La Colina, como la llamaba toda la gente de muchas millas alrededor -, y muchas puertecitas redondas se abrían en él, primero a un lado y luego al otro. Nada de subir escaleras para el hobbit: dormitorios, cuartos de baño, bodegas, despensas (muchas), armarios (habitaciones enteras dedicadas a ropa), cocinas, comedores, se encontraban en la misma planta, y en verdad en el mismo pasillo. Las mejores habitaciones estaban todas a la izquierda de la puerta principal, pues eran las únicas que tenían ventanas, ventanas redondas, profundamente excavadas, que miraban al jardín y los prados de más allá, camino del río. Este hobbit era un hobbit acomodado, y se apellidaba Bolsón. Los Bolsón habían vivido en las cercanías de La Colina desde hacía muchísimo tiempo, y la gente los consideraba muy respetables, no solo porque casi todos eran ricos, sino también porque nunca tenían ninguna aventura ni hacían algo inesperado: uno podía saber lo que diría un Bolsón acerca de cualquier asunto sin necesidad de preguntárselo. Esta es la historia de cómo un Bolsón tuvo una aventura, y se encontró a sí mismo haciendo y diciendo cosas por completo inesperadas. Podría haber perdido el respeto de los vecinos, pero ganó … Bueno, ya veréis si al final ganó algo.La madre de nuestro hobbit era particular… pero, ¿qué es un hobbit? Supongo que los hobbits necesitan hoy que se los describa de algún modo, ya que se volvieron bastante raros y tímidos con la Gente Grande, como nos llaman. Son o (fueron) gente menuda de la mitad de nuestra talla, y más pequeños que los enanos barbados. Los hobbits no tienen barba. Hay poca o ninguna magia en ellos, excepto esa común y cotidiana que los ayuda a desaparecer en silencio y rápidamente, cuando gente grande y estúpida como vosotros o yo se acerca sin mirar por dónde va, con un ruido de elefantes que puede oírse a una milla de distancia. Tienden a ser gruesos de vientre; visten colores brillantes (sobre todo verde y amarillo); no usan zapatos, porque en los pies tienen unas suelas naturales de piel y un pelo espeso y tibio de color castaño, como el que les crece en las cabezas (que es rizado).\"\n",
        "trad_2_gt = \"\"\"En un agujero en el suelo vivía un hobbit. No era un agujero repugnante, sucio y húmedo, lleno de gusanos en las puntas y con un olor a cieno, ni tampoco un agujero seco, desnudo y arenoso, sin nada en lo que sentarse o para comer: era un agujero-hobbit, y eso significa comodidad.Tenía una puerta perfectamente redonda como un ojo de buey, pintada de verde, con un pomo de latón amarillo brillante en el centro exacto. La puerta daba a un vestíbulo en forma de tubo, parecido a un túnel: un túnel muy cómodo y sin humo, con paredes revestidas y suelos de baldosas y moqueta, provisto de sillas pulidas y montones, montones de perchas para sombreros y abrigos: el hobbit estaba aficionado a los visitantes. El túnel serpenteaba más y más, yendo bastante pero no del todo recto hacia la ladera de la colina (La Colina, como la llamaba toda la gente en muchos kilómetros a la redonda) y muchas pequeñas puertas redondas se abrían fuera de él, primero a un lado y luego a otro.El hobbit no podía subir las escaleras: dormitorios, baños, sótanos, despensas (muchas), armarios (tenía habitaciones enteras dedicadas a la ropa), cocinas, comedores, todo estaba en el mismo piso y, de hecho, en el mismo pasillo.Las mejores habitaciones estaban todas en el lado izquierdo (hacia la entrada), porque eran las únicas que tenían ventanas, ventanas redondas y profundas que daban al jardín y a los prados más allá, que descendían hasta el río.Este hobbit era un hobbit muy acomodado y se llamaba Bolsón. Los Bolsón habían vivido en el barrio de The Hill desde hacía mucho tiempo, y la gente los consideraba muy respetables, no sólo porque la mayoría eran ricos, sino también porque nunca tuvieron aventuras ni hicieron nada inesperado: se podía decir qué diría Bolsón sobre cualquier pregunta sin molestarse en preguntarle. Esta es una historia de cómo Bolsón tuvo una aventura y se encontró haciendo y diciendo cosas completamente inesperadas. Puede que haya perdido el respeto de los vecinos, pero lo ganó … bueno, verás si al final ganó algo.La madre de nuestro hobbit particular - ¿qué es un hobbit? Supongo que hoy en día los hobbits necesitan alguna descripción, ya que se han vuelto raros y tímidos con la Gente Grande, como nos llaman. Son (o eran) personas pequeñas, aproximadamente la mitad de nuestra altura, y más pequeñas que los barbudos Enanos. Los hobbits no tienen barba. Hay poca o ninguna magia en ellos, excepto la del tipo cotidiano que les ayuda a desaparecer silenciosa y rápidamente cuando gente grande y estúpida como tú y yo llegamos dando tumbos, haciendo un ruido como el de los elefantes que pueden oír a una milla de distancia apagado. Tienden a tener grasa en el estómago; visten con colores brillantes (principalmente verde y amarillo), no usan zapatos, porque a sus pies les crecen suelas de cuero natural y un espeso y cálido cabello castaño como el que tienen en la cabeza (que es rizado).\"\"\"\n",
        "trad_3_pt = \"\"\"En un agujero en el suelo vivía un hobbit. Ni un agujero sucio, sucio, húmedo, lleno de lombrices y un olor ondulado, ni aún un agujero seco, desnudo, arenoso, sin nada en él para sentarse o para comer: era un agujero de hobbit, y eso significa comodidad.Tenía una puerta perfectamente redonda como un pórtico, pintado de verde, con un pomo de latón amarillo brillante en el centro exacto. La puerta se abría a una sala en forma de tubo como un túnel: un túnel muy cómodo sin humo, con paredes de paneles, y pisos de baldosas y alfombrado, provisto de sillas pulidas, y un montón y un montón de clavijas para sombreros y abrigos - el hobbit era aficionado a los visitantes. La herida del túnel en y en, yendo bastante pero no del todo recta en el lado de la colina - La colina, como toda la gente durante muchos kilómetros a la redonda lo llamó - y muchas pequeñas puertas redondas se abrieron fuera de ella, primero en un lado y luego en otro.No ir arriba para el hobbit: dormitorios, baños, bodegas, despensas (muchos de estos), armarios (tenía habitaciones enteras dedicadas a la ropa), cocinas, comedores, todos estaban en el mismo piso, y de hecho en el mismo pasaje.Las mejores habitaciones estaban todas a la izquierda (entrando), porque estas eran las únicas que tenían ventanas, ventanas redondas profundas mirando sobre su jardín, y prados más allá, inclinándose hacia el río.Este hobbit era un hobbit muy bueno, y su nombre era Baggins. Los Bagginses habían vivido en el barrio de The Hill durante mucho tiempo fuera de la mente, y la gente los consideraba muy respetables, no sólo porque la mayoría de ellos eran ricos, sino también porque nunca tuvieron aventuras o hicieron nada inesperado: se podía decir lo que un Baggins diría en cualquier pregunta sin la molestia de preguntarle. Esta es una historia de cómo un Baggins tuvo una aventura, y se encontró haciendo y diciendo cosas totalmente inesperadas. Puede haber perdido el respeto de los vecinos, pero ganó - bueno, usted verá si él ganó algo al final.La madre de nuestro hobbit en particular - ¿qué es un hobbit? Supongo que los hobbits necesitan alguna descripción hoy en día, ya que se han vuelto raros y tímidos de la Gente Grande, como nos llaman. Son (o eran) un poco personas, aproximadamente la mitad de nuestra altura, y más pequeños que los enanos barbudos.Los hobbits no tienen barba. Hay poca o ninguna magia en ellos, excepto el tipo cotidiano ordinario que les ayuda a desaparecer silenciosa y rápidamente cuando gente estúpida grande como tú y yo vienen haciendo un ruido como elefantes que pueden oír una milla fuera.Están inclinados a estar gordos en el estómago; visten en colores brillantes (principalmente verde y amarillo); no usan zapatos, porque sus pies crecen suelas de cuero natural y cabello castaño cálido grueso como las cosas en sus cabezas (que es rizado).\"\"\""
      ],
      "metadata": {
        "id": "Yw3iG2BwTLvk"
      },
      "execution_count": 26,
      "outputs": []
    },
    {
      "cell_type": "code",
      "source": [
        "referencia_txt"
      ],
      "metadata": {
        "colab": {
          "base_uri": "https://localhost:8080/",
          "height": 139
        },
        "id": "ZHDeLoBHWc39",
        "outputId": "9a382c9b-80b6-4601-eb4d-f1a965164c30"
      },
      "execution_count": 27,
      "outputs": [
        {
          "output_type": "execute_result",
          "data": {
            "text/plain": [
              "'In a hole in the ground there lived a hobbit. Not a nasty, dirty, wet hole, filled with the ends of worms and an oozy smell, nor yet a dry, bare, sandy hole with nothing in it to sit down on or to eat: it was a hobbit-hole, and that means comfort. It had a perfectly round door like a porthole, painted green, with a shiny yellow brass knob in the exact middle. The door opened on to a tube-shaped hall like a tunnel: a very comfortable tunnel without smoke, with panelled walls, and floors tiled and carpeted, provided with polished chairs, and lots and lots of pegs for hats and coats - the hobbit was fond of visitors. The tunnel wound on and on, going fairly but not quite straight into the side of the hill - The Hill, as all the people for many miles round called it - and many little round doors opened out of it, first on one side and then on another. No going upstairs for the hobbit: bedrooms, bathrooms, cellars, pantries (lots of these), wardrobes (he had whole rooms devoted to clothes), kitchens, dining-rooms, all were on the same floor, and indeed on the same passage. The best rooms were all on the lefthand side (going in), for these were the only ones to have windows, deep-set round windows looking over his garden, and meadows beyond, sloping down to the river. This hobbit was a very well-to-do hobbit, and his name was Baggins. The Bagginses had lived in the neighbourhood of The Hill for time out of mind, and people considered them very respectable, not only because most of them were rich, but also because they never had any adventures or did anything unexpected: you could tell what a Baggins would say on any question without the bother of asking him. This is a story of how a Baggins had an adventure, and found himself doing and saying things altogether unexpected. He may have lost the neighbours’ respect, but he gained - well, you will see whether he gained anything in the end. The mother of our particular hobbit - what is a hobbit? I suppose hobbits need some description nowadays, since they have become rare and shy of the Big People, as they call us. They are (or were) a little people, about half our height, and smaller than the bearded Dwarves. Hobbits have no beards. There is little or no magic about them, except the ordinary everyday sort which helps them to disappear quietly and quickly when large stupid folk like you and me come blundering along, making a noise like elephants which they can hear a mile off. They are inclined to be fat in the stomach; they dress in bright colours (chiefly green and yellow); wear no shoes, because their feet grow natural leathery soles and thick warm brown hair like the stuff on their heads (which is curly).'"
            ],
            "application/vnd.google.colaboratory.intrinsic+json": {
              "type": "string"
            }
          },
          "metadata": {},
          "execution_count": 27
        }
      ]
    },
    {
      "cell_type": "code",
      "source": [
        "##Partimos en frases los textos para poder realizar la evaluación\n",
        "referencia_txt = [x.strip() for x in referencia_txt.split('.')[:-1]]\n",
        "referencia_txt"
      ],
      "metadata": {
        "colab": {
          "base_uri": "https://localhost:8080/"
        },
        "id": "GDE7XxscWfor",
        "outputId": "8350e83e-faa0-45c0-f727-51b5c370ae9d"
      },
      "execution_count": 28,
      "outputs": [
        {
          "output_type": "execute_result",
          "data": {
            "text/plain": [
              "['In a hole in the ground there lived a hobbit',\n",
              " 'Not a nasty, dirty, wet hole, filled with the ends of worms and an oozy smell, nor yet a dry, bare, sandy hole with nothing in it to sit down on or to eat: it was a hobbit-hole, and that means comfort',\n",
              " 'It had a perfectly round door like a porthole, painted green, with a shiny yellow brass knob in the exact middle',\n",
              " 'The door opened on to a tube-shaped hall like a tunnel: a very comfortable tunnel without smoke, with panelled walls, and floors tiled and carpeted, provided with polished chairs, and lots and lots of pegs for hats and coats - the hobbit was fond of visitors',\n",
              " 'The tunnel wound on and on, going fairly but not quite straight into the side of the hill - The Hill, as all the people for many miles round called it - and many little round doors opened out of it, first on one side and then on another',\n",
              " 'No going upstairs for the hobbit: bedrooms, bathrooms, cellars, pantries (lots of these), wardrobes (he had whole rooms devoted to clothes), kitchens, dining-rooms, all were on the same floor, and indeed on the same passage',\n",
              " 'The best rooms were all on the lefthand side (going in), for these were the only ones to have windows, deep-set round windows looking over his garden, and meadows beyond, sloping down to the river',\n",
              " 'This hobbit was a very well-to-do hobbit, and his name was Baggins',\n",
              " 'The Bagginses had lived in the neighbourhood of The Hill for time out of mind, and people considered them very respectable, not only because most of them were rich, but also because they never had any adventures or did anything unexpected: you could tell what a Baggins would say on any question without the bother of asking him',\n",
              " 'This is a story of how a Baggins had an adventure, and found himself doing and saying things altogether unexpected',\n",
              " 'He may have lost the neighbours’ respect, but he gained - well, you will see whether he gained anything in the end',\n",
              " 'The mother of our particular hobbit - what is a hobbit? I suppose hobbits need some description nowadays, since they have become rare and shy of the Big People, as they call us',\n",
              " 'They are (or were) a little people, about half our height, and smaller than the bearded Dwarves',\n",
              " 'Hobbits have no beards',\n",
              " 'There is little or no magic about them, except the ordinary everyday sort which helps them to disappear quietly and quickly when large stupid folk like you and me come blundering along, making a noise like elephants which they can hear a mile off',\n",
              " 'They are inclined to be fat in the stomach; they dress in bright colours (chiefly green and yellow); wear no shoes, because their feet grow natural leathery soles and thick warm brown hair like the stuff on their heads (which is curly)']"
            ]
          },
          "metadata": {},
          "execution_count": 28
        }
      ]
    },
    {
      "cell_type": "code",
      "source": [
        "trad_1 = [a.strip() for a in trad_1.split('.')[:-1]]\n",
        "trad_1"
      ],
      "metadata": {
        "colab": {
          "base_uri": "https://localhost:8080/"
        },
        "id": "yArRwL_OXjmC",
        "outputId": "7f66b056-0f34-4832-99b5-1925b96ea6bf"
      },
      "execution_count": 29,
      "outputs": [
        {
          "output_type": "execute_result",
          "data": {
            "text/plain": [
              "['En un agujero en el suelo vivía un hobbit',\n",
              " 'No un agujero húmedo, sucio, repugnante, con restos de gusanos y olor a fango, ni tampoco un agujero seco, desnudo y arenoso, sin nada en que sentarse o que comer: era un agujero-hobbit, y eso significa comodidad',\n",
              " 'Tenía una puerta redonda, perfecta como un ojo de buey, pintada de verde, con una manilla de bronce dorada y brillante, justo en el medio',\n",
              " 'La puerta se abría a un vestíbulo cilíndrico, como un túnel: un túnel muy cómodo, sin humos, con paredes revestidas de madera y suelos enlosados y alfombrados, provisto de sillas barnizadas, y montones y montones de perchas para sombreros y abrigos; el hobbit era aficionado a las visitas',\n",
              " 'El túnel se extendía serpeando, y penetraba bastante, pero no directamente, en la ladera de la colina – La Colina, como la llamaba toda la gente de muchas millas alrededor -, y muchas puertecitas redondas se abrían en él, primero a un lado y luego al otro',\n",
              " 'Nada de subir escaleras para el hobbit: dormitorios, cuartos de baño, bodegas, despensas (muchas), armarios (habitaciones enteras dedicadas a ropa), cocinas, comedores, se encontraban en la misma planta, y en verdad en el mismo pasillo',\n",
              " 'Las mejores habitaciones estaban todas a la izquierda de la puerta principal, pues eran las únicas que tenían ventanas, ventanas redondas, profundamente excavadas, que miraban al jardín y los prados de más allá, camino del río',\n",
              " 'Este hobbit era un hobbit acomodado, y se apellidaba Bolsón',\n",
              " 'Los Bolsón habían vivido en las cercanías de La Colina desde hacía muchísimo tiempo, y la gente los consideraba muy respetables, no solo porque casi todos eran ricos, sino también porque nunca tenían ninguna aventura ni hacían algo inesperado: uno podía saber lo que diría un Bolsón acerca de cualquier asunto sin necesidad de preguntárselo',\n",
              " 'Esta es la historia de cómo un Bolsón tuvo una aventura, y se encontró a sí mismo haciendo y diciendo cosas por completo inesperadas',\n",
              " 'Podría haber perdido el respeto de los vecinos, pero ganó … Bueno, ya veréis si al final ganó algo',\n",
              " 'La madre de nuestro hobbit era particular… pero, ¿qué es un hobbit? Supongo que los hobbits necesitan hoy que se los describa de algún modo, ya que se volvieron bastante raros y tímidos con la Gente Grande, como nos llaman',\n",
              " 'Son o (fueron) gente menuda de la mitad de nuestra talla, y más pequeños que los enanos barbados',\n",
              " 'Los hobbits no tienen barba',\n",
              " 'Hay poca o ninguna magia en ellos, excepto esa común y cotidiana que los ayuda a desaparecer en silencio y rápidamente, cuando gente grande y estúpida como vosotros o yo se acerca sin mirar por dónde va, con un ruido de elefantes que puede oírse a una milla de distancia',\n",
              " 'Tienden a ser gruesos de vientre; visten colores brillantes (sobre todo verde y amarillo); no usan zapatos, porque en los pies tienen unas suelas naturales de piel y un pelo espeso y tibio de color castaño, como el que les crece en las cabezas (que es rizado)']"
            ]
          },
          "metadata": {},
          "execution_count": 29
        }
      ]
    },
    {
      "cell_type": "code",
      "source": [
        "trad_2_gt = [b.strip() for b in trad_2_gt.split('.')[:-1]]\n",
        "trad_2_gt"
      ],
      "metadata": {
        "colab": {
          "base_uri": "https://localhost:8080/"
        },
        "id": "tLHik8eEXpVB",
        "outputId": "0793ee86-ae00-430d-e3ab-b59234dc1237"
      },
      "execution_count": 30,
      "outputs": [
        {
          "output_type": "execute_result",
          "data": {
            "text/plain": [
              "['En un agujero en el suelo vivía un hobbit',\n",
              " 'No era un agujero repugnante, sucio y húmedo, lleno de gusanos en las puntas y con un olor a cieno, ni tampoco un agujero seco, desnudo y arenoso, sin nada en lo que sentarse o para comer: era un agujero-hobbit, y eso significa comodidad',\n",
              " 'Tenía una puerta perfectamente redonda como un ojo de buey, pintada de verde, con un pomo de latón amarillo brillante en el centro exacto',\n",
              " 'La puerta daba a un vestíbulo en forma de tubo, parecido a un túnel: un túnel muy cómodo y sin humo, con paredes revestidas y suelos de baldosas y moqueta, provisto de sillas pulidas y montones, montones de perchas para sombreros y abrigos: el hobbit estaba aficionado a los visitantes',\n",
              " 'El túnel serpenteaba más y más, yendo bastante pero no del todo recto hacia la ladera de la colina (La Colina, como la llamaba toda la gente en muchos kilómetros a la redonda) y muchas pequeñas puertas redondas se abrían fuera de él, primero a un lado y luego a otro',\n",
              " 'El hobbit no podía subir las escaleras: dormitorios, baños, sótanos, despensas (muchas), armarios (tenía habitaciones enteras dedicadas a la ropa), cocinas, comedores, todo estaba en el mismo piso y, de hecho, en el mismo pasillo',\n",
              " 'Las mejores habitaciones estaban todas en el lado izquierdo (hacia la entrada), porque eran las únicas que tenían ventanas, ventanas redondas y profundas que daban al jardín y a los prados más allá, que descendían hasta el río',\n",
              " 'Este hobbit era un hobbit muy acomodado y se llamaba Bolsón',\n",
              " 'Los Bolsón habían vivido en el barrio de The Hill desde hacía mucho tiempo, y la gente los consideraba muy respetables, no sólo porque la mayoría eran ricos, sino también porque nunca tuvieron aventuras ni hicieron nada inesperado: se podía decir qué diría Bolsón sobre cualquier pregunta sin molestarse en preguntarle',\n",
              " 'Esta es una historia de cómo Bolsón tuvo una aventura y se encontró haciendo y diciendo cosas completamente inesperadas',\n",
              " 'Puede que haya perdido el respeto de los vecinos, pero lo ganó … bueno, verás si al final ganó algo',\n",
              " 'La madre de nuestro hobbit particular - ¿qué es un hobbit? Supongo que hoy en día los hobbits necesitan alguna descripción, ya que se han vuelto raros y tímidos con la Gente Grande, como nos llaman',\n",
              " 'Son (o eran) personas pequeñas, aproximadamente la mitad de nuestra altura, y más pequeñas que los barbudos Enanos',\n",
              " 'Los hobbits no tienen barba',\n",
              " 'Hay poca o ninguna magia en ellos, excepto la del tipo cotidiano que les ayuda a desaparecer silenciosa y rápidamente cuando gente grande y estúpida como tú y yo llegamos dando tumbos, haciendo un ruido como el de los elefantes que pueden oír a una milla de distancia apagado',\n",
              " 'Tienden a tener grasa en el estómago; visten con colores brillantes (principalmente verde y amarillo), no usan zapatos, porque a sus pies les crecen suelas de cuero natural y un espeso y cálido cabello castaño como el que tienen en la cabeza (que es rizado)']"
            ]
          },
          "metadata": {},
          "execution_count": 30
        }
      ]
    },
    {
      "cell_type": "code",
      "source": [
        "trad_3_pt = [c.strip() for c in trad_3_pt.split('.')[:-1]]\n",
        "trad_3_pt"
      ],
      "metadata": {
        "colab": {
          "base_uri": "https://localhost:8080/"
        },
        "id": "4LJ4oqHMXqdG",
        "outputId": "80ead9db-e0e9-48dc-8349-a997de24728d"
      },
      "execution_count": 31,
      "outputs": [
        {
          "output_type": "execute_result",
          "data": {
            "text/plain": [
              "['En un agujero en el suelo vivía un hobbit',\n",
              " 'Ni un agujero sucio, sucio, húmedo, lleno de lombrices y un olor ondulado, ni aún un agujero seco, desnudo, arenoso, sin nada en él para sentarse o para comer: era un agujero de hobbit, y eso significa comodidad',\n",
              " 'Tenía una puerta perfectamente redonda como un pórtico, pintado de verde, con un pomo de latón amarillo brillante en el centro exacto',\n",
              " 'La puerta se abría a una sala en forma de tubo como un túnel: un túnel muy cómodo sin humo, con paredes de paneles, y pisos de baldosas y alfombrado, provisto de sillas pulidas, y un montón y un montón de clavijas para sombreros y abrigos - el hobbit era aficionado a los visitantes',\n",
              " 'La herida del túnel en y en, yendo bastante pero no del todo recta en el lado de la colina - La colina, como toda la gente durante muchos kilómetros a la redonda lo llamó - y muchas pequeñas puertas redondas se abrieron fuera de ella, primero en un lado y luego en otro',\n",
              " 'No ir arriba para el hobbit: dormitorios, baños, bodegas, despensas (muchos de estos), armarios (tenía habitaciones enteras dedicadas a la ropa), cocinas, comedores, todos estaban en el mismo piso, y de hecho en el mismo pasaje',\n",
              " 'Las mejores habitaciones estaban todas a la izquierda (entrando), porque estas eran las únicas que tenían ventanas, ventanas redondas profundas mirando sobre su jardín, y prados más allá, inclinándose hacia el río',\n",
              " 'Este hobbit era un hobbit muy bueno, y su nombre era Baggins',\n",
              " 'Los Bagginses habían vivido en el barrio de The Hill durante mucho tiempo fuera de la mente, y la gente los consideraba muy respetables, no sólo porque la mayoría de ellos eran ricos, sino también porque nunca tuvieron aventuras o hicieron nada inesperado: se podía decir lo que un Baggins diría en cualquier pregunta sin la molestia de preguntarle',\n",
              " 'Esta es una historia de cómo un Baggins tuvo una aventura, y se encontró haciendo y diciendo cosas totalmente inesperadas',\n",
              " 'Puede haber perdido el respeto de los vecinos, pero ganó - bueno, usted verá si él ganó algo al final',\n",
              " 'La madre de nuestro hobbit en particular - ¿qué es un hobbit? Supongo que los hobbits necesitan alguna descripción hoy en día, ya que se han vuelto raros y tímidos de la Gente Grande, como nos llaman',\n",
              " 'Son (o eran) un poco personas, aproximadamente la mitad de nuestra altura, y más pequeños que los enanos barbudos',\n",
              " 'Los hobbits no tienen barba',\n",
              " 'Hay poca o ninguna magia en ellos, excepto el tipo cotidiano ordinario que les ayuda a desaparecer silenciosa y rápidamente cuando gente estúpida grande como tú y yo vienen haciendo un ruido como elefantes que pueden oír una milla fuera',\n",
              " 'Están inclinados a estar gordos en el estómago; visten en colores brillantes (principalmente verde y amarillo); no usan zapatos, porque sus pies crecen suelas de cuero natural y cabello castaño cálido grueso como las cosas en sus cabezas (que es rizado)']"
            ]
          },
          "metadata": {},
          "execution_count": 31
        }
      ]
    },
    {
      "cell_type": "markdown",
      "source": [
        "#WER"
      ],
      "metadata": {
        "id": "_NYMjzOrYDGe"
      }
    },
    {
      "cell_type": "code",
      "source": [
        "from evaluate import load\n",
        "wer = load(\"wer\")"
      ],
      "metadata": {
        "id": "aQFoaE1JX_PJ"
      },
      "execution_count": 32,
      "outputs": []
    },
    {
      "cell_type": "code",
      "source": [
        "#Índice de Wer en la traducción manual profesional de ediciones Minotauro\n",
        "wer_score1 = wer.compute(predictions=trad_1, references=referencia_txt)\n",
        "wer_score1"
      ],
      "metadata": {
        "colab": {
          "base_uri": "https://localhost:8080/"
        },
        "id": "JWXdjZh4YLr9",
        "outputId": "a089e9cc-dac0-4016-f6a7-c5ff256f3ee5"
      },
      "execution_count": 33,
      "outputs": [
        {
          "output_type": "execute_result",
          "data": {
            "text/plain": [
              "1.0489795918367346"
            ]
          },
          "metadata": {},
          "execution_count": 33
        }
      ]
    },
    {
      "cell_type": "code",
      "source": [
        "#Índice de Wer en la traducción automática de Google Translate\n",
        "wer_score2 = wer.compute(predictions=trad_2_gt, references=referencia_txt)\n",
        "wer_score2"
      ],
      "metadata": {
        "colab": {
          "base_uri": "https://localhost:8080/"
        },
        "id": "zxO50SYUYS6s",
        "outputId": "97434e78-0617-452f-f893-bde115161e85"
      },
      "execution_count": 34,
      "outputs": [
        {
          "output_type": "execute_result",
          "data": {
            "text/plain": [
              "1.030612244897959"
            ]
          },
          "metadata": {},
          "execution_count": 34
        }
      ]
    },
    {
      "cell_type": "code",
      "source": [
        "#Índice de Wer en la traducción automática de PromptOne\n",
        "wer_score3 = wer.compute(predictions=trad_3_pt, references=referencia_txt)\n",
        "wer_score3"
      ],
      "metadata": {
        "colab": {
          "base_uri": "https://localhost:8080/"
        },
        "id": "LvLOLBqwYTS3",
        "outputId": "80bbd0b1-a0da-4c3c-afcd-fe1fd98cdb6d"
      },
      "execution_count": 35,
      "outputs": [
        {
          "output_type": "execute_result",
          "data": {
            "text/plain": [
              "1.010204081632653"
            ]
          },
          "metadata": {},
          "execution_count": 35
        }
      ]
    },
    {
      "cell_type": "markdown",
      "source": [
        "##Bleu"
      ],
      "metadata": {
        "id": "cYHhbb-oY5-p"
      }
    },
    {
      "cell_type": "code",
      "source": [
        "bleu = load(\"bleu\")"
      ],
      "metadata": {
        "id": "1MvK5zB-Y3pv"
      },
      "execution_count": 36,
      "outputs": []
    },
    {
      "cell_type": "code",
      "source": [
        "bleu_score1 = bleu.compute(predictions=trad_1, references=referencia_txt)\n",
        "bleu_score1"
      ],
      "metadata": {
        "colab": {
          "base_uri": "https://localhost:8080/"
        },
        "id": "52l1SNl8Y99d",
        "outputId": "e06b388f-127a-40be-89cb-755a5e1df5a8"
      },
      "execution_count": 37,
      "outputs": [
        {
          "output_type": "execute_result",
          "data": {
            "text/plain": [
              "{'bleu': 0.0,\n",
              " 'precisions': [0.13066202090592335, 0.008960573476702509, 0.0, 0.0],\n",
              " 'brevity_penalty': 1.0,\n",
              " 'length_ratio': 1.0417422867513613,\n",
              " 'translation_length': 574,\n",
              " 'reference_length': 551}"
            ]
          },
          "metadata": {},
          "execution_count": 37
        }
      ]
    },
    {
      "cell_type": "code",
      "source": [
        "bleu_score2 = bleu.compute(predictions=trad_2_gt, references=referencia_txt)\n",
        "bleu_score2"
      ],
      "metadata": {
        "colab": {
          "base_uri": "https://localhost:8080/"
        },
        "id": "6kfdqsBVZAdg",
        "outputId": "de37d6c4-1f1c-48fc-959a-d6d609ecf28f"
      },
      "execution_count": 38,
      "outputs": [
        {
          "output_type": "execute_result",
          "data": {
            "text/plain": [
              "{'bleu': 0.0,\n",
              " 'precisions': [0.13604240282685512, 0.00909090909090909, 0.0, 0.0],\n",
              " 'brevity_penalty': 1.0,\n",
              " 'length_ratio': 1.0272232304900182,\n",
              " 'translation_length': 566,\n",
              " 'reference_length': 551}"
            ]
          },
          "metadata": {},
          "execution_count": 38
        }
      ]
    },
    {
      "cell_type": "code",
      "source": [
        "bleu_score3 = bleu.compute(predictions=trad_3_pt, references=referencia_txt)\n",
        "bleu_score3"
      ],
      "metadata": {
        "colab": {
          "base_uri": "https://localhost:8080/"
        },
        "id": "r7Qij3ccZD16",
        "outputId": "0bfb4d08-f048-4fa3-a978-d5c0a3622626"
      },
      "execution_count": 39,
      "outputs": [
        {
          "output_type": "execute_result",
          "data": {
            "text/plain": [
              "{'bleu': 0.0,\n",
              " 'precisions': [0.1556350626118068, 0.01289134438305709, 0.0, 0.0],\n",
              " 'brevity_penalty': 1.0,\n",
              " 'length_ratio': 1.014519056261343,\n",
              " 'translation_length': 559,\n",
              " 'reference_length': 551}"
            ]
          },
          "metadata": {},
          "execution_count": 39
        }
      ]
    },
    {
      "cell_type": "markdown",
      "source": [
        "##METEOR"
      ],
      "metadata": {
        "id": "FpemqjRnZdP4"
      }
    },
    {
      "cell_type": "code",
      "source": [
        "meteor = load(\"meteor\")"
      ],
      "metadata": {
        "colab": {
          "base_uri": "https://localhost:8080/",
          "height": 118,
          "referenced_widgets": [
            "9018874db99a437db8e2cdac81d65c32",
            "a900879c965d431bb3109a060e174c68",
            "8a2c3c1c605c4621922ad71b67545972",
            "954b8e1a7e9e43c5a91fe271240d80f8",
            "8553212f962945ff813b93b78c979e1b",
            "ba083a66a8a546d3acdb6f15e06033d4",
            "ffa65139886d49f5ab852cb42ff3567c",
            "cb356c9b1162462295f2de87dad1bfd9",
            "efa84184ffd64f1195803f0a1281f5fa",
            "2231e7c5c65545d8bc589bc82754e932",
            "a13a1d1b47be4dd796698cf323477dbc"
          ]
        },
        "id": "-mai26bxZg8R",
        "outputId": "57d85a95-dc2e-4181-b607-3cdb32301b1e"
      },
      "execution_count": 40,
      "outputs": [
        {
          "output_type": "display_data",
          "data": {
            "text/plain": [
              "Downloading builder script:   0%|          | 0.00/6.93k [00:00<?, ?B/s]"
            ],
            "application/vnd.jupyter.widget-view+json": {
              "version_major": 2,
              "version_minor": 0,
              "model_id": "9018874db99a437db8e2cdac81d65c32"
            }
          },
          "metadata": {}
        },
        {
          "output_type": "stream",
          "name": "stderr",
          "text": [
            "[nltk_data] Downloading package wordnet to /root/nltk_data...\n",
            "[nltk_data] Downloading package punkt to /root/nltk_data...\n",
            "[nltk_data]   Unzipping tokenizers/punkt.zip.\n",
            "[nltk_data] Downloading package omw-1.4 to /root/nltk_data...\n"
          ]
        }
      ]
    },
    {
      "cell_type": "code",
      "source": [
        "meteor_score1 = meteor.compute(predictions=trad_1, references=referencia_txt)\n",
        "meteor_score1"
      ],
      "metadata": {
        "colab": {
          "base_uri": "https://localhost:8080/"
        },
        "id": "VSDewhEKZhU4",
        "outputId": "a1033903-ed0c-4270-d47c-4cfb6416049d"
      },
      "execution_count": 41,
      "outputs": [
        {
          "output_type": "execute_result",
          "data": {
            "text/plain": [
              "{'meteor': 0.08807185939495507}"
            ]
          },
          "metadata": {},
          "execution_count": 41
        }
      ]
    },
    {
      "cell_type": "code",
      "source": [
        "meteor_score2 = meteor.compute(predictions=trad_2_gt, references=referencia_txt)\n",
        "meteor_score2"
      ],
      "metadata": {
        "colab": {
          "base_uri": "https://localhost:8080/"
        },
        "id": "QH6lYcxSZqXc",
        "outputId": "37d8554a-8a69-4d4a-b57a-eb42ee817927"
      },
      "execution_count": 42,
      "outputs": [
        {
          "output_type": "execute_result",
          "data": {
            "text/plain": [
              "{'meteor': 0.08141720568544975}"
            ]
          },
          "metadata": {},
          "execution_count": 42
        }
      ]
    },
    {
      "cell_type": "code",
      "source": [
        "meteor_score3 = meteor.compute(predictions=trad_3_pt, references=referencia_txt)\n",
        "meteor_score3"
      ],
      "metadata": {
        "colab": {
          "base_uri": "https://localhost:8080/"
        },
        "id": "Dc0qq00pZqvq",
        "outputId": "128badbf-7f5d-49fa-e06c-636a8b276a12"
      },
      "execution_count": 43,
      "outputs": [
        {
          "output_type": "execute_result",
          "data": {
            "text/plain": [
              "{'meteor': 0.10173768322833729}"
            ]
          },
          "metadata": {},
          "execution_count": 43
        }
      ]
    },
    {
      "cell_type": "markdown",
      "source": [
        "## BERT Score"
      ],
      "metadata": {
        "id": "kLmh5KTYZzGS"
      }
    },
    {
      "cell_type": "code",
      "source": [
        "bertscore = load(\"bertscore\")"
      ],
      "metadata": {
        "colab": {
          "base_uri": "https://localhost:8080/",
          "height": 49,
          "referenced_widgets": [
            "8de0d3c0f1194911937af0b352084f84",
            "e31d6511d86745418ac8fc509a83c623",
            "a4c8188445e3457aacf03ca67308401e",
            "8cb006e86dc74f3aa32d5164e50ea78a",
            "17d29131e0914321a4179782d928b465",
            "c45bdda87ad740efb0f72a52d74c47f6",
            "a58c3da302194ec78a2461ed77657296",
            "e5503a4be48d41bf81e3abfa59445939",
            "8a0a51c451564d68a90342e56fcb1fb9",
            "877dfad34a694dfa87bd1cebdbaf8dd8",
            "3269f535703c41afb7786876d75433bd"
          ]
        },
        "id": "b1kJ0gzkZzya",
        "outputId": "526eced7-288a-47aa-d0da-cdd2f3c8c6ff"
      },
      "execution_count": 44,
      "outputs": [
        {
          "output_type": "display_data",
          "data": {
            "text/plain": [
              "Downloading builder script:   0%|          | 0.00/7.95k [00:00<?, ?B/s]"
            ],
            "application/vnd.jupyter.widget-view+json": {
              "version_major": 2,
              "version_minor": 0,
              "model_id": "8de0d3c0f1194911937af0b352084f84"
            }
          },
          "metadata": {}
        }
      ]
    },
    {
      "cell_type": "code",
      "source": [
        "bert_score1 = bertscore.compute(predictions=trad_1, references=referencia_txt,lang=\"es\")\n",
        "bert_score1"
      ],
      "metadata": {
        "colab": {
          "base_uri": "https://localhost:8080/",
          "height": 1000,
          "referenced_widgets": [
            "263fa6d60ede4438a61d65e98211f54e",
            "00b42aec4e81493d9e4065553319ec9d",
            "8dfeefc30b5147859b8270c8b3616c9b",
            "afda9d6089e54a1dacc809a6d0e45415",
            "a8d7c3747a71460f9fbab5b0437784ea",
            "227e34194020421c8eea644e31f2f450",
            "047700794dd24c43a8e6c96fca9ff405",
            "41b4e205197c42088bc81274bc273220",
            "f4b2cadf28fd463e9a83a2fc28bcbd9b",
            "8080b773388049f1a9c460890949fa11",
            "5be674625e894cae86b892f15df1a913",
            "bd3bc6a30e314a7c8a238555d739a521",
            "6a0e17d4be594c1d89c183e96fba2101",
            "9d1b5f1daff247aba54476c5f4a4a1ef",
            "d7126618116a43f3ab284c871ced7c76",
            "4128669da5234c9eb92419f5f54d96d2",
            "2e55fb0ec91e4a7c8e21064fc1bdb921",
            "44dcee0b367148ccb7bed68b339e0e0a",
            "9657c40703884fcfaa77496bebbdb2b4",
            "1e3f908cf9724b6997a9626af8801dfa",
            "5c7905385e57493cac3639192bbac451",
            "b82e055459b04fc8a6058c5242f1fffb",
            "83d8f1d1b6104b749ec3f198fec863f7",
            "b440e04e80774fca8fe1645ba29ae64b",
            "642339809c4242e68b68f0c86befe904",
            "9ddfd9f0e9774a2bae1d7fb011a3c206",
            "efb4f0ba04b0469da1710c2f7464ca39",
            "d8e266a10a8a454283b348b7ff9a74a9",
            "cf6e306b094741298692285dd06435ca",
            "4eca442b37534f00a777e35791b76796",
            "4454aaf8974b47509fced5a30f5ed88e",
            "d29899e38ad74d6f953e6ce4f84b2ac9",
            "9c6548610339465fb563e96a868ee5e6",
            "f634e6ed455c43b6af2e80083cb34a51",
            "22a92810464a4472a24fb81831a5cc8d",
            "0b82afe8b1244236ba3365e12b4e4931",
            "fc80a40475ab4b82b68a7181af0273f1",
            "b9d2b34ef1644a098f4817f9203533a2",
            "a81e1a2858f94214a38b0c196928c017",
            "3227c8dde2c64ff3809603a2fae545d2",
            "275980a4f48e418982586e24e2818b07",
            "8402c2690a9d412fb9eae26a96af1579",
            "c013191833364a388b38251f9301f9f9",
            "3819b425976f4b09a735b73770d155b8",
            "192608d7a2494dd1957720825f5d70ce",
            "7ee24003af974899a51391f522fd7ca2",
            "adc66a4c5d924d43a450c2a06576be08",
            "6afbf5f46edd47978c589547a473d17c",
            "6608d32ef42244df9d8d221ea4e9fa9d",
            "589774315d6a4bcf92b552904366005a",
            "be17a8c8483843baa87454bf7dd3b19c",
            "c15880167c5a4e66a59f956e2aff42a5",
            "20317246cbe849e89dda773a0b8b8f30",
            "81284315231e4fee93078a80b4fa775f",
            "b0664783c7e445f99d90d9773503e74e"
          ]
        },
        "id": "MJYXZ_xhZ2Op",
        "outputId": "846debbd-3b18-4cda-fd48-aed4858f05a8"
      },
      "execution_count": 45,
      "outputs": [
        {
          "output_type": "stream",
          "name": "stderr",
          "text": [
            "/usr/local/lib/python3.10/dist-packages/huggingface_hub/utils/_token.py:88: UserWarning: \n",
            "The secret `HF_TOKEN` does not exist in your Colab secrets.\n",
            "To authenticate with the Hugging Face Hub, create a token in your settings tab (https://huggingface.co/settings/tokens), set it as secret in your Google Colab and restart your session.\n",
            "You will be able to reuse this secret in all of your notebooks.\n",
            "Please note that authentication is recommended but still optional to access public models or datasets.\n",
            "  warnings.warn(\n"
          ]
        },
        {
          "output_type": "display_data",
          "data": {
            "text/plain": [
              "tokenizer_config.json:   0%|          | 0.00/49.0 [00:00<?, ?B/s]"
            ],
            "application/vnd.jupyter.widget-view+json": {
              "version_major": 2,
              "version_minor": 0,
              "model_id": "263fa6d60ede4438a61d65e98211f54e"
            }
          },
          "metadata": {}
        },
        {
          "output_type": "display_data",
          "data": {
            "text/plain": [
              "config.json:   0%|          | 0.00/625 [00:00<?, ?B/s]"
            ],
            "application/vnd.jupyter.widget-view+json": {
              "version_major": 2,
              "version_minor": 0,
              "model_id": "bd3bc6a30e314a7c8a238555d739a521"
            }
          },
          "metadata": {}
        },
        {
          "output_type": "display_data",
          "data": {
            "text/plain": [
              "vocab.txt:   0%|          | 0.00/996k [00:00<?, ?B/s]"
            ],
            "application/vnd.jupyter.widget-view+json": {
              "version_major": 2,
              "version_minor": 0,
              "model_id": "83d8f1d1b6104b749ec3f198fec863f7"
            }
          },
          "metadata": {}
        },
        {
          "output_type": "display_data",
          "data": {
            "text/plain": [
              "tokenizer.json:   0%|          | 0.00/1.96M [00:00<?, ?B/s]"
            ],
            "application/vnd.jupyter.widget-view+json": {
              "version_major": 2,
              "version_minor": 0,
              "model_id": "f634e6ed455c43b6af2e80083cb34a51"
            }
          },
          "metadata": {}
        },
        {
          "output_type": "display_data",
          "data": {
            "text/plain": [
              "model.safetensors:   0%|          | 0.00/714M [00:00<?, ?B/s]"
            ],
            "application/vnd.jupyter.widget-view+json": {
              "version_major": 2,
              "version_minor": 0,
              "model_id": "192608d7a2494dd1957720825f5d70ce"
            }
          },
          "metadata": {}
        },
        {
          "output_type": "execute_result",
          "data": {
            "text/plain": [
              "{'precision': [0.8528937697410583,\n",
              "  0.7369571924209595,\n",
              "  0.7857838273048401,\n",
              "  0.7747237682342529,\n",
              "  0.7372170686721802,\n",
              "  0.7999768853187561,\n",
              "  0.758898138999939,\n",
              "  0.799254834651947,\n",
              "  0.7745316028594971,\n",
              "  0.8268856406211853,\n",
              "  0.7339801788330078,\n",
              "  0.7608563303947449,\n",
              "  0.7668114900588989,\n",
              "  0.8458799719810486,\n",
              "  0.7565008401870728,\n",
              "  0.76750248670578],\n",
              " 'recall': [0.8732762932777405,\n",
              "  0.7533145546913147,\n",
              "  0.8047593832015991,\n",
              "  0.7985773682594299,\n",
              "  0.7563835978507996,\n",
              "  0.7974179983139038,\n",
              "  0.7623308897018433,\n",
              "  0.7938112616539001,\n",
              "  0.788517415523529,\n",
              "  0.8548001050949097,\n",
              "  0.7288309335708618,\n",
              "  0.7949734926223755,\n",
              "  0.7734741568565369,\n",
              "  0.8569996953010559,\n",
              "  0.7805011868476868,\n",
              "  0.7814129590988159],\n",
              " 'f1': [0.8629646897315979,\n",
              "  0.745046079158783,\n",
              "  0.7951583862304688,\n",
              "  0.7864697575569153,\n",
              "  0.7466773986816406,\n",
              "  0.7986953854560852,\n",
              "  0.7606106400489807,\n",
              "  0.7965237498283386,\n",
              "  0.7814618945121765,\n",
              "  0.8406112194061279,\n",
              "  0.731396496295929,\n",
              "  0.7775408625602722,\n",
              "  0.7701284885406494,\n",
              "  0.851403534412384,\n",
              "  0.7683135867118835,\n",
              "  0.7743952870368958],\n",
              " 'hashcode': 'bert-base-multilingual-cased_L9_no-idf_version=0.3.12(hug_trans=4.35.2)'}"
            ]
          },
          "metadata": {},
          "execution_count": 45
        }
      ]
    },
    {
      "cell_type": "code",
      "source": [
        "bert_score2 = bertscore.compute(predictions=trad_2_gt, references=referencia_txt,lang=\"es\")\n",
        "bert_score2"
      ],
      "metadata": {
        "colab": {
          "base_uri": "https://localhost:8080/"
        },
        "id": "mv4f7KHYZ5bt",
        "outputId": "77d47a36-e03a-4e37-ad9f-0a825cb07b05"
      },
      "execution_count": 46,
      "outputs": [
        {
          "output_type": "execute_result",
          "data": {
            "text/plain": [
              "{'precision': [0.8528937697410583,\n",
              "  0.7305455207824707,\n",
              "  0.8071292638778687,\n",
              "  0.7749590873718262,\n",
              "  0.7464076280593872,\n",
              "  0.7984509468078613,\n",
              "  0.7751820087432861,\n",
              "  0.8017838001251221,\n",
              "  0.7873020172119141,\n",
              "  0.825862467288971,\n",
              "  0.7451395988464355,\n",
              "  0.8146438002586365,\n",
              "  0.8287102580070496,\n",
              "  0.8458799719810486,\n",
              "  0.7613288164138794,\n",
              "  0.7618858814239502],\n",
              " 'recall': [0.8732762932777405,\n",
              "  0.7509267330169678,\n",
              "  0.8311641216278076,\n",
              "  0.7901800870895386,\n",
              "  0.7749572992324829,\n",
              "  0.7970844507217407,\n",
              "  0.7818917036056519,\n",
              "  0.7933966517448425,\n",
              "  0.7863962650299072,\n",
              "  0.8237332701683044,\n",
              "  0.734952986240387,\n",
              "  0.8309481143951416,\n",
              "  0.8338403701782227,\n",
              "  0.8569996953010559,\n",
              "  0.7830191254615784,\n",
              "  0.7798837423324585],\n",
              " 'f1': [0.8629646897315979,\n",
              "  0.7405959963798523,\n",
              "  0.8189703822135925,\n",
              "  0.7824956178665161,\n",
              "  0.7604146003723145,\n",
              "  0.7977671027183533,\n",
              "  0.7785223722457886,\n",
              "  0.797568142414093,\n",
              "  0.7868489027023315,\n",
              "  0.8247964978218079,\n",
              "  0.7400112748146057,\n",
              "  0.822715163230896,\n",
              "  0.8312674164772034,\n",
              "  0.851403534412384,\n",
              "  0.7720215916633606,\n",
              "  0.7707797884941101],\n",
              " 'hashcode': 'bert-base-multilingual-cased_L9_no-idf_version=0.3.12(hug_trans=4.35.2)'}"
            ]
          },
          "metadata": {},
          "execution_count": 46
        }
      ]
    },
    {
      "cell_type": "code",
      "source": [
        "bert_score3 = bertscore.compute(predictions=trad_3_pt, references=referencia_txt,lang=\"es\")\n",
        "bert_score3"
      ],
      "metadata": {
        "colab": {
          "base_uri": "https://localhost:8080/"
        },
        "id": "HKrLlnrraDti",
        "outputId": "e7c15fe1-6847-43c5-bbba-20760f6614e9"
      },
      "execution_count": 47,
      "outputs": [
        {
          "output_type": "execute_result",
          "data": {
            "text/plain": [
              "{'precision': [0.8528937697410583,\n",
              "  0.7392041683197021,\n",
              "  0.8156698346138,\n",
              "  0.7889096140861511,\n",
              "  0.7705596685409546,\n",
              "  0.8296948671340942,\n",
              "  0.8280665874481201,\n",
              "  0.9236326813697815,\n",
              "  0.823753833770752,\n",
              "  0.8793654441833496,\n",
              "  0.7770249843597412,\n",
              "  0.8194007873535156,\n",
              "  0.8422146439552307,\n",
              "  0.8458799719810486,\n",
              "  0.7891135215759277,\n",
              "  0.8006263971328735],\n",
              " 'recall': [0.8732762932777405,\n",
              "  0.7487062811851501,\n",
              "  0.8345301151275635,\n",
              "  0.8089122176170349,\n",
              "  0.7920420169830322,\n",
              "  0.8201808929443359,\n",
              "  0.8226284384727478,\n",
              "  0.8760669827461243,\n",
              "  0.835707426071167,\n",
              "  0.876365602016449,\n",
              "  0.7753616571426392,\n",
              "  0.8388592004776001,\n",
              "  0.8509419560432434,\n",
              "  0.8569996953010559,\n",
              "  0.7930272221565247,\n",
              "  0.8152903318405151],\n",
              " 'f1': [0.8629646897315979,\n",
              "  0.7439249157905579,\n",
              "  0.8249921798706055,\n",
              "  0.7987856864929199,\n",
              "  0.78115314245224,\n",
              "  0.8249104022979736,\n",
              "  0.8253385424613953,\n",
              "  0.8992212414741516,\n",
              "  0.8296875953674316,\n",
              "  0.8778629302978516,\n",
              "  0.7761924862861633,\n",
              "  0.829015851020813,\n",
              "  0.846555769443512,\n",
              "  0.851403534412384,\n",
              "  0.7910655736923218,\n",
              "  0.807891845703125],\n",
              " 'hashcode': 'bert-base-multilingual-cased_L9_no-idf_version=0.3.12(hug_trans=4.35.2)'}"
            ]
          },
          "metadata": {},
          "execution_count": 47
        }
      ]
    },
    {
      "cell_type": "code",
      "source": [
        "import numpy as np\n",
        "np.mean(bert_score1['f1']),np.std(bert_score1['f1'])"
      ],
      "metadata": {
        "colab": {
          "base_uri": "https://localhost:8080/"
        },
        "id": "xtMhD1AxaSrq",
        "outputId": "8ef6270d-082f-4281-f9b9-78c1bad40dfb"
      },
      "execution_count": 48,
      "outputs": [
        {
          "output_type": "execute_result",
          "data": {
            "text/plain": [
              "(0.7867123410105705, 0.036377069275613065)"
            ]
          },
          "metadata": {},
          "execution_count": 48
        }
      ]
    },
    {
      "cell_type": "code",
      "source": [
        "np.mean(bert_score2['f1']),np.std(bert_score2['f1'])"
      ],
      "metadata": {
        "colab": {
          "base_uri": "https://localhost:8080/"
        },
        "id": "z14JbJL5aXfW",
        "outputId": "937d7419-ee81-4a32-c2fc-76f4f69540df"
      },
      "execution_count": 49,
      "outputs": [
        {
          "output_type": "execute_result",
          "data": {
            "text/plain": [
              "(0.7961964420974255, 0.03546690015097869)"
            ]
          },
          "metadata": {},
          "execution_count": 49
        }
      ]
    },
    {
      "cell_type": "code",
      "source": [
        "np.mean(bert_score3['f1']),np.std(bert_score3['f1'])"
      ],
      "metadata": {
        "colab": {
          "base_uri": "https://localhost:8080/"
        },
        "id": "YnOzkrmaabtY",
        "outputId": "7bd3c91e-da91-45f5-dee2-2e0369c2e441"
      },
      "execution_count": 50,
      "outputs": [
        {
          "output_type": "execute_result",
          "data": {
            "text/plain": [
              "(0.8231853991746902, 0.03865007319302907)"
            ]
          },
          "metadata": {},
          "execution_count": 50
        }
      ]
    },
    {
      "cell_type": "markdown",
      "source": [
        "## BLEURT"
      ],
      "metadata": {
        "id": "Wg8OdlzUaeuk"
      }
    },
    {
      "cell_type": "code",
      "source": [
        "bleurtscore = load(\"bleurt\")"
      ],
      "metadata": {
        "colab": {
          "base_uri": "https://localhost:8080/",
          "height": 118,
          "referenced_widgets": [
            "1848d7c718cd4958b99828d000b0e581",
            "e1c92e52d52f4e6f81dc863012b4ae49",
            "63acfb0f35bb498c90ab8e452e29ebe1",
            "3f6610dd71a8493a813ab07af814fe75",
            "9326d720bb5f482da8a03d0837981d8d",
            "cad1d661a16746328eb918f0b9b11d13",
            "30794e784fe54d6ba4cb5d05ec42d3d4",
            "ccfc4cad62664811a5d005f7e9030b0d",
            "1096291e9bf845e4aa457e33b2fe31be",
            "09f72f89bdc9417897609271ce09ac07",
            "3f14c15cefff4d82af81140708805f67",
            "8c8e7e7647204a2dbc9e7fef6250c659",
            "c61bd3e59ba34cb7b625e0c837c5296e",
            "d611ec0df21b49589660750e058372f9",
            "904b7b102d3949bca8113885e39cf1fc",
            "a243ce9b66fb430fb065b7eccc3031a3",
            "ba74a318c2f44125add660213ae5d677",
            "ccace7c5a8094a0688bf4000ff8229de",
            "09a5c4bdcbb5461fb112245fa1b82dc1",
            "1ca0463c467e43e0b808c5d4e105fe4c",
            "6399121cbc2a4bccbd384fa2749a7694",
            "e45c79886c8e42258ee009a875e9dc73"
          ]
        },
        "id": "chmRjz4daffC",
        "outputId": "e2406ede-2e44-4c4f-89eb-c971a52d0224"
      },
      "execution_count": 51,
      "outputs": [
        {
          "output_type": "display_data",
          "data": {
            "text/plain": [
              "Downloading builder script:   0%|          | 0.00/5.20k [00:00<?, ?B/s]"
            ],
            "application/vnd.jupyter.widget-view+json": {
              "version_major": 2,
              "version_minor": 0,
              "model_id": "1848d7c718cd4958b99828d000b0e581"
            }
          },
          "metadata": {}
        },
        {
          "output_type": "stream",
          "name": "stderr",
          "text": [
            "WARNING:evaluate_modules.metrics.evaluate-metric--bleurt.98e148b2f8c4a88aba5037e4e0e90c9fd9ec35dc37a054ded8cfef0fa801ffab.bleurt:Using default BLEURT-Base checkpoint for sequence maximum length 128. You can use a bigger model for better results with e.g.: evaluate.load('bleurt', 'bleurt-large-512').\n"
          ]
        },
        {
          "output_type": "display_data",
          "data": {
            "text/plain": [
              "Downloading data:   0%|          | 0.00/405M [00:00<?, ?B/s]"
            ],
            "application/vnd.jupyter.widget-view+json": {
              "version_major": 2,
              "version_minor": 0,
              "model_id": "8c8e7e7647204a2dbc9e7fef6250c659"
            }
          },
          "metadata": {}
        }
      ]
    },
    {
      "cell_type": "code",
      "source": [
        "bleurt_score1 = bleurtscore.compute(predictions=trad_1, references=referencia_txt)\n",
        "bleurt_score1"
      ],
      "metadata": {
        "colab": {
          "base_uri": "https://localhost:8080/"
        },
        "id": "Nf_O8_N8ah5_",
        "outputId": "27cc7555-dac8-4a8c-f50d-305a7e34b566"
      },
      "execution_count": 52,
      "outputs": [
        {
          "output_type": "execute_result",
          "data": {
            "text/plain": [
              "{'scores': [-1.261252999305725,\n",
              "  -1.2922792434692383,\n",
              "  -1.0611763000488281,\n",
              "  -1.3143730163574219,\n",
              "  -1.1404085159301758,\n",
              "  -1.2923434972763062,\n",
              "  -1.2503557205200195,\n",
              "  -1.2293386459350586,\n",
              "  -1.2451961040496826,\n",
              "  -1.0688402652740479,\n",
              "  -1.316236972808838,\n",
              "  -1.4320449829101562,\n",
              "  -1.307032585144043,\n",
              "  -1.435362696647644,\n",
              "  -1.1590895652770996,\n",
              "  -1.345550537109375]}"
            ]
          },
          "metadata": {},
          "execution_count": 52
        }
      ]
    },
    {
      "cell_type": "code",
      "source": [
        "bleurt_score2 = bleurtscore.compute(predictions=trad_2_gt, references=referencia_txt)\n",
        "bleurt_score2"
      ],
      "metadata": {
        "colab": {
          "base_uri": "https://localhost:8080/"
        },
        "id": "2lxT6b7danDZ",
        "outputId": "57333878-7210-4051-99c4-75ddc61cf107"
      },
      "execution_count": 53,
      "outputs": [
        {
          "output_type": "execute_result",
          "data": {
            "text/plain": [
              "{'scores': [-1.261252999305725,\n",
              "  -1.2251620292663574,\n",
              "  -1.0743489265441895,\n",
              "  -1.3018126487731934,\n",
              "  -1.09542977809906,\n",
              "  -1.2519557476043701,\n",
              "  -1.316705346107483,\n",
              "  -1.2319958209991455,\n",
              "  -1.2919377088546753,\n",
              "  -1.0299322605133057,\n",
              "  -1.285024642944336,\n",
              "  -1.3857452869415283,\n",
              "  -1.286440372467041,\n",
              "  -1.435362696647644,\n",
              "  -1.2259408235549927,\n",
              "  -1.2899627685546875]}"
            ]
          },
          "metadata": {},
          "execution_count": 53
        }
      ]
    },
    {
      "cell_type": "code",
      "source": [
        "bleurt_score3 = bleurtscore.compute(predictions=trad_3_pt, references=referencia_txt)\n",
        "bleurt_score3"
      ],
      "metadata": {
        "colab": {
          "base_uri": "https://localhost:8080/"
        },
        "id": "08r_Fv9FasxD",
        "outputId": "96843be7-b594-4fea-d588-56b65c19a454"
      },
      "execution_count": 54,
      "outputs": [
        {
          "output_type": "execute_result",
          "data": {
            "text/plain": [
              "{'scores': [-1.261252999305725,\n",
              "  -1.2942147254943848,\n",
              "  -1.115721583366394,\n",
              "  -1.3160459995269775,\n",
              "  -1.2029255628585815,\n",
              "  -1.241603136062622,\n",
              "  -1.2950915098190308,\n",
              "  -1.1274033784866333,\n",
              "  -1.286614179611206,\n",
              "  -1.1722371578216553,\n",
              "  -1.2819430828094482,\n",
              "  -1.3954572677612305,\n",
              "  -1.2756779193878174,\n",
              "  -1.435362696647644,\n",
              "  -1.1821467876434326,\n",
              "  -1.2910335063934326]}"
            ]
          },
          "metadata": {},
          "execution_count": 54
        }
      ]
    },
    {
      "cell_type": "code",
      "source": [
        "np.mean(bleurt_score1['scores']),np.std(bleurt_score1['scores'])"
      ],
      "metadata": {
        "colab": {
          "base_uri": "https://localhost:8080/"
        },
        "id": "3fSqSZxDa4cY",
        "outputId": "8b980457-9085-42d5-de54-06f6459de5a3"
      },
      "execution_count": 55,
      "outputs": [
        {
          "output_type": "execute_result",
          "data": {
            "text/plain": [
              "(-1.2594301030039787, 0.1060354273640334)"
            ]
          },
          "metadata": {},
          "execution_count": 55
        }
      ]
    },
    {
      "cell_type": "code",
      "source": [
        "np.mean(bleurt_score2['scores']),np.std(bleurt_score2['scores'])"
      ],
      "metadata": {
        "colab": {
          "base_uri": "https://localhost:8080/"
        },
        "id": "gO5d3797a5Mr",
        "outputId": "58241391-ee4f-47d5-98a1-f06162a872ad"
      },
      "execution_count": 56,
      "outputs": [
        {
          "output_type": "execute_result",
          "data": {
            "text/plain": [
              "(-1.2493131160736084, 0.10327408161687429)"
            ]
          },
          "metadata": {},
          "execution_count": 56
        }
      ]
    },
    {
      "cell_type": "code",
      "source": [
        "np.mean(bleurt_score3['scores']),np.std(bleurt_score3['scores'])"
      ],
      "metadata": {
        "colab": {
          "base_uri": "https://localhost:8080/"
        },
        "id": "C8tUqnLCa8vX",
        "outputId": "742e7f45-21a7-4c93-9825-34f4ba222e91"
      },
      "execution_count": 57,
      "outputs": [
        {
          "output_type": "execute_result",
          "data": {
            "text/plain": [
              "(-1.2609207183122635, 0.08395987083087497)"
            ]
          },
          "metadata": {},
          "execution_count": 57
        }
      ]
    },
    {
      "cell_type": "markdown",
      "source": [
        "En la siguiente tabla, vemos un resumen de los resultados.\n",
        "\n",
        "||Traducción Manual Ed. Minotauro| Google Translate | PromptOne\n",
        "|---|---|---|---|\n",
        "| WER | 1.048 | 1.030| 1.010|\n",
        "| BLEU | 0.0 | 0.0| 0.0|\n",
        "| METEOR |0.088|0.081| 0.101|\n",
        "| BERT Score | 0.78 (0.036) | 0.79 (0.035)| 0.82 (0.038)|\n",
        "| BLEURT | -1.25 (0.106) | -1.24 (0.103)| -1.26 (0.083)|\n",
        "\n"
      ],
      "metadata": {
        "id": "VTTEU1UrqpHt"
      }
    }
  ]
}